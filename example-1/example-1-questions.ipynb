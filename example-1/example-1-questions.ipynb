{
 "cells": [
  {
   "cell_type": "markdown",
   "metadata": {},
   "source": [
    "# Flipping coins with Professor Mittens"
   ]
  },
  {
   "cell_type": "markdown",
   "metadata": {},
   "source": [
    "## Outline and housekeeping\n",
    "\n",
    "The material in this notebook covers four topics: binomial distributions, the central limit theorem, outliers in data and invalid model assumptions. _You will have approximately 15 minutes to work through each part, after which we will go through the answers together._ Exercises marked as \"extension\" may be more challenging, so you can skip them on a first reading if you feel they will take too much time.\n",
    "\n",
    "This notebook is available on github [here](https://github.com/aezarebski/aas-extended-examples). If you find errors or would like to suggest an improvement, feel free to create an issue."
   ]
  },
  {
   "cell_type": "markdown",
   "metadata": {},
   "source": [
    "## Introduction\n",
    "\n",
    "In this lab we will look at the binomial distribution, central limit theorem, and analyse two data sets collected by [Professor Mittens](https://en.wikipedia.org/wiki/Mittens_(cat)) helping him interrogate the bais in the results of coin flips. Some of the questions are open-ended by design. Partial solutions will be distributed at the end of the session. The imports below are used in the provided solutions, consider these suggestions, not constraints. The answers use `altair` but you can use any plotting library you are comfortable with."
   ]
  },
  {
   "cell_type": "code",
   "execution_count": 1,
   "metadata": {},
   "outputs": [],
   "source": [
    "import pandas as pd\n",
    "from scipy import stats\n",
    "import altair as alt\n",
    "from typing import List, Any, Tuple\n",
    "from functools import reduce\n",
    "from itertools import repeat\n",
    "import math as math"
   ]
  },
  {
   "cell_type": "markdown",
   "metadata": {},
   "source": [
    "## Parameter estimation of the binomial distribution\n",
    "\n",
    "Bernoulli and binomial random variables are the typical way to represent the outcome of coin flips. Below we consider estimates of the probability of heads based on a known number of successes in a given number of trials and also a confidence interval (CI) for this based on the Wald method will be given.\n",
    "\n",
    "Let $X$ be a binomial random variable (RV) which results from the number of heads when a coin is flipped $n$ times and the probability of coming up heads is $p$. For the time being we will assume that $n$ is know. The expected value of $X$ is $np$. So a simple way to estimate $p$ is to divide the number of heads, $X$, by the number of flips, $n$. This gives the estimate \n",
    "\n",
    "$$\n",
    "\\hat{p} = X / n.\n",
    "$$\n",
    "\n",
    "It turns out that this is a very sensible thing to do. The resulting estimate is called the maximum likelihood estimate (MLE) of $p$. It is also the result that one obtains via [the method of moments](https://en.wikipedia.org/wiki/Method_of_moments_(statistics)).\n",
    "\n",
    "Given an estimator though, we want to know how confident we are in the estimate it produces. Here we will use the Wald method to get the $95\\%$ CI. It is a very simple method but is acceptable when we have a fair bit of data. The estimated standard error of $\\hat{p}$ is $\\sqrt{\\hat{p}(1-\\hat{p})/n}$, so the Wald CI is given by\n",
    "\n",
    "$$\n",
    "\\hat{p} \\pm z \\sqrt{\\frac{\\hat{p}(1-\\hat{p})}{n}}\n",
    "$$\n",
    "\n",
    "where $z$ is the appropriate quantile of the standard normal distribution. In the case of a $95\\%$ distribution this is just $1.96$.\n",
    "\n",
    "This is stated on the [wikipedia](https://en.wikipedia.org/wiki/Binomial_distribution#Estimation_of_parameters) but there is also a reasonably clear description in [All of Statistics](https://link.springer.com/book/10.1007/978-0-387-21736-9) which you can get via SOLO. You can also find reasonable treatments of Wald CIs in both of those resources."
   ]
  },
  {
   "cell_type": "markdown",
   "metadata": {},
   "source": [
    "### Exercise 1 part I\n",
    "\n",
    "Professor Mittens is not very familiar with the binomial distribution and wants you to justify the estimator used above. Convince yourself that the estimate given above, $X/n$, is a sensible choice. Prove that it is either the MLE or the method of moments estimator for $p$. State the limitations on the estimator we are using for the CI."
   ]
  },
  {
   "cell_type": "markdown",
   "metadata": {},
   "source": [
    "#### Answer\n",
    "\n",
    "If $n$ number of coin flips result in $\\bar{X}$ number of heads, then the probability of getting heads is $n \\times p$. It follows from this that $p = \\frac{\\bar{X}}{n}$"
   ]
  },
  {
   "cell_type": "markdown",
   "metadata": {},
   "source": [
    "### Exercise 1 part II\n",
    "\n",
    "Implement a function called `wald_estimate_and_ci` which takes two arguments: `num_trials` which is $n$ in the description above, and `num_success` which is $X$ above. The function should return `(p_hat,(wald_lower,wald_upper))` where `p_hat` is $\\hat{p}$ and `wald_x` are the limits on the $95\\%$ CI using the Wald method."
   ]
  },
  {
   "cell_type": "code",
   "execution_count": 4,
   "metadata": {},
   "outputs": [],
   "source": [
    "import numpy as np\n",
    "\n",
    "def wald_estimate_and_ci(num_trials, num_success):\n",
    "    p_hat = num_success/num_trials\n",
    "    wald_estimate_se = np.sqrt((p_hat * (1 - p_hat)) / num_trials)\n",
    "    wald_lower = p_hat - 1.96 * wald_estimate_se\n",
    "    wald_upper = p_hat + 1.96 * wald_estimate_se\n",
    "    return((p_hat,(wald_lower,wald_upper)))"
   ]
  },
  {
   "cell_type": "code",
   "execution_count": 5,
   "metadata": {},
   "outputs": [
    {
     "data": {
      "text/plain": [
       "(0.5, (0.402, 0.598))"
      ]
     },
     "execution_count": 5,
     "metadata": {},
     "output_type": "execute_result"
    }
   ],
   "source": [
    "wald_estimate_and_ci(100, 50)"
   ]
  },
  {
   "cell_type": "markdown",
   "metadata": {},
   "source": [
    "### Exercise 2 part I\n",
    "\n",
    "Look up how to simulate a random variable from a binomial distribution (it tells you [here](https://docs.scipy.org/doc/scipy/reference/generated/scipy.stats.binom.html#scipy.stats.binom) if you want to use `scipy`). Then simulate a binomial random variable with $n=100$ and $p=0.6$. Then use the value and the `wald_estimate_and_ci` function to see how well you can estimate $p$. Write a couple of sentences to explain this.\n",
    "\n",
    "### Exercise 2 part II\n",
    "\n",
    "Repeat the process about 100000 times and see what proportion of the CIs capture the true value of $p$. Is it what you expect? Write a couple of sentences to explain what you found."
   ]
  },
  {
   "cell_type": "code",
   "execution_count": 7,
   "metadata": {},
   "outputs": [],
   "source": [
    "#### Answer - Ex 2 pt \n",
    "\n",
    "rand_xs = stats.binom.rvs(n=100, p=0.6, size = 100000)\n"
   ]
  },
  {
   "cell_type": "markdown",
   "metadata": {},
   "source": [
    "### Exercise 2 part III\n",
    "\n",
    "Are credible intervals and confidence intervals the same thing?"
   ]
  },
  {
   "cell_type": "markdown",
   "metadata": {},
   "source": [
    "## Central limit theorem\n",
    "\n",
    "The central limit theorem tells us about the limiting distribution of the sample mean for distribution for an IID sample with a finite variance. It underpins many results in statistics and is important for reasoning about stochastic processes.\n",
    "\n",
    "### Exercise 3 part I (Extension)\n",
    "\n",
    "Professor Mittens *really* likes to sound fancy and use the name of important theorems. Write down a statement of the law of large numbers. Write down a statement of the central limit theorem. Make sure you understand what each of them tells you."
   ]
  },
  {
   "cell_type": "markdown",
   "metadata": {},
   "source": [
    "#### Answer\n",
    "##### Law of large numbers\n",
    "As the number of observations $n$ increases, so does the certainty of claims we can make\n",
    "##### Central limit theorem\n",
    "As the number of observations $n$ moves towards infinity, the distribution of the sample means starts to approach a gaussian distribution. "
   ]
  },
  {
   "cell_type": "markdown",
   "metadata": {},
   "source": [
    "### Exercise 3 part II\n",
    "\n",
    "To see that the distribution of the sample mean converges to a normal distribution we will do a simulation study and compare the results with a Q-Q plot to see if it looks normally distributed. This will also demonstrate how to construct a Q-Q plot from first principles, not that you really want to do that. Carry out the following steps:\n",
    "\n",
    "1. Write down the distribution of the sample mean given an IID sample of exponential random variables with rate $1/5$.\n",
    "2. Generate 500 sample means each based on a sample of 100 exponential random variables\n",
    "3. Make a visualisation of the distribution of the data (e.g., a KDE or histogram) and overlay the CLT approximation.\n",
    "4. Make a Q-Q plot to see if the sample means do appear to follow a normal distribution"
   ]
  },
  {
   "cell_type": "code",
   "execution_count": 21,
   "metadata": {},
   "outputs": [],
   "source": [
    "sample_size = 100\n",
    "num_replicates = 500\n",
    "\n",
    "sample_means = [stats.expon.rvs(scale = 5, size = sample_size).mean() for _ in range(num_replicates)]\n",
    "\n",
    "plot_df = pd.DataFrame({\"sample_mean\": sample_means})\n",
    "\n",
    "mesh_size = 200\n",
    "x_vals = [0.02 * ix + 3 for ix in range(0,mesh_size)]\n",
    "\n",
    "clt_scale = 5 / math.sqrt(sample_size)\n",
    "\n",
    "clt_pdf = [stats.norm.pdf(x, loc = 5, scale = clt_scale) for x in x_vals]\n",
    "clt_df = pd.DataFrame({\"x\": x_vals, \"pdf\": clt_pdf})"
   ]
  },
  {
   "cell_type": "code",
   "execution_count": 22,
   "metadata": {},
   "outputs": [
    {
     "data": {
      "text/html": [
       "\n",
       "<div id=\"altair-viz-236be04056ac4764ab3bb44f4f0edcd8\"></div>\n",
       "<script type=\"text/javascript\">\n",
       "  (function(spec, embedOpt){\n",
       "    let outputDiv = document.currentScript.previousElementSibling;\n",
       "    if (outputDiv.id !== \"altair-viz-236be04056ac4764ab3bb44f4f0edcd8\") {\n",
       "      outputDiv = document.getElementById(\"altair-viz-236be04056ac4764ab3bb44f4f0edcd8\");\n",
       "    }\n",
       "    const paths = {\n",
       "      \"vega\": \"https://cdn.jsdelivr.net/npm//vega@5?noext\",\n",
       "      \"vega-lib\": \"https://cdn.jsdelivr.net/npm//vega-lib?noext\",\n",
       "      \"vega-lite\": \"https://cdn.jsdelivr.net/npm//vega-lite@4.8.1?noext\",\n",
       "      \"vega-embed\": \"https://cdn.jsdelivr.net/npm//vega-embed@6?noext\",\n",
       "    };\n",
       "\n",
       "    function loadScript(lib) {\n",
       "      return new Promise(function(resolve, reject) {\n",
       "        var s = document.createElement('script');\n",
       "        s.src = paths[lib];\n",
       "        s.async = true;\n",
       "        s.onload = () => resolve(paths[lib]);\n",
       "        s.onerror = () => reject(`Error loading script: ${paths[lib]}`);\n",
       "        document.getElementsByTagName(\"head\")[0].appendChild(s);\n",
       "      });\n",
       "    }\n",
       "\n",
       "    function showError(err) {\n",
       "      outputDiv.innerHTML = `<div class=\"error\" style=\"color:red;\">${err}</div>`;\n",
       "      throw err;\n",
       "    }\n",
       "\n",
       "    function displayChart(vegaEmbed) {\n",
       "      vegaEmbed(outputDiv, spec, embedOpt)\n",
       "        .catch(err => showError(`Javascript Error: ${err.message}<br>This usually means there's a typo in your chart specification. See the javascript console for the full traceback.`));\n",
       "    }\n",
       "\n",
       "    if(typeof define === \"function\" && define.amd) {\n",
       "      requirejs.config({paths});\n",
       "      require([\"vega-embed\"], displayChart, err => showError(`Error loading script: ${err.message}`));\n",
       "    } else if (typeof vegaEmbed === \"function\") {\n",
       "      displayChart(vegaEmbed);\n",
       "    } else {\n",
       "      loadScript(\"vega\")\n",
       "        .then(() => loadScript(\"vega-lite\"))\n",
       "        .then(() => loadScript(\"vega-embed\"))\n",
       "        .catch(showError)\n",
       "        .then(() => displayChart(vegaEmbed));\n",
       "    }\n",
       "  })({\"config\": {\"view\": {\"continuousWidth\": 400, \"continuousHeight\": 300}}, \"layer\": [{\"data\": {\"name\": \"data-2d8a69f95be09bbddc77f025eeb1b5f6\"}, \"mark\": \"area\", \"encoding\": {\"x\": {\"type\": \"quantitative\", \"field\": \"sample_mean\", \"title\": \"Sample mean\"}, \"y\": {\"type\": \"quantitative\", \"field\": \"density\"}}, \"transform\": [{\"density\": \"sample_mean\", \"extent\": [3, 7], \"as\": [\"sample_mean\", \"density\"]}]}, {\"data\": {\"name\": \"data-a3a81a5f0d04bfc8b61f0bab463f1214\"}, \"mark\": {\"type\": \"line\", \"color\": \"red\"}, \"encoding\": {\"x\": {\"type\": \"quantitative\", \"field\": \"x\"}, \"y\": {\"type\": \"quantitative\", \"field\": \"pdf\"}}}], \"$schema\": \"https://vega.github.io/schema/vega-lite/v4.8.1.json\", \"datasets\": {\"data-2d8a69f95be09bbddc77f025eeb1b5f6\": [{\"sample_mean\": 4.454078341842385}, {\"sample_mean\": 6.023461102339857}, {\"sample_mean\": 4.75955877347005}, {\"sample_mean\": 6.054765869670988}, {\"sample_mean\": 4.864730351194849}, {\"sample_mean\": 4.508186729979856}, {\"sample_mean\": 5.285867509704286}, {\"sample_mean\": 5.893100322406236}, {\"sample_mean\": 4.524237665862071}, {\"sample_mean\": 5.516115023552819}, {\"sample_mean\": 4.650334884405011}, {\"sample_mean\": 5.0135337748645705}, {\"sample_mean\": 4.997956563867719}, {\"sample_mean\": 5.2055280338660825}, {\"sample_mean\": 5.514328522163206}, {\"sample_mean\": 4.897294222591481}, {\"sample_mean\": 4.779486625364043}, {\"sample_mean\": 4.446852424740128}, {\"sample_mean\": 5.460907462529158}, {\"sample_mean\": 5.327539852524845}, {\"sample_mean\": 4.909820689908767}, {\"sample_mean\": 4.937501705473704}, {\"sample_mean\": 4.906127783082715}, {\"sample_mean\": 3.97570677625328}, {\"sample_mean\": 4.969161761315454}, {\"sample_mean\": 4.8950010569311955}, {\"sample_mean\": 5.346809688801918}, {\"sample_mean\": 4.836280360575326}, {\"sample_mean\": 5.320598668389769}, {\"sample_mean\": 5.9032909630256425}, {\"sample_mean\": 4.309310385629281}, {\"sample_mean\": 5.769286391794031}, {\"sample_mean\": 4.844927909126256}, {\"sample_mean\": 5.361108888885613}, {\"sample_mean\": 5.175835027741141}, {\"sample_mean\": 4.884305380922941}, {\"sample_mean\": 4.8000019762602}, {\"sample_mean\": 4.983126246127656}, {\"sample_mean\": 5.003890939523042}, {\"sample_mean\": 6.042034199711972}, {\"sample_mean\": 4.458114252499812}, {\"sample_mean\": 5.0869431494478405}, {\"sample_mean\": 5.587406995969563}, {\"sample_mean\": 4.895421713328705}, {\"sample_mean\": 4.9842422866911615}, {\"sample_mean\": 4.844447542515295}, {\"sample_mean\": 4.714671488490385}, {\"sample_mean\": 4.416600089892131}, {\"sample_mean\": 5.555106569267623}, {\"sample_mean\": 4.452693709737769}, {\"sample_mean\": 4.855976374601904}, {\"sample_mean\": 4.94928194708776}, {\"sample_mean\": 5.408202367182259}, {\"sample_mean\": 4.799023937684886}, {\"sample_mean\": 5.080797997219229}, {\"sample_mean\": 4.239352344757026}, {\"sample_mean\": 5.062182647525491}, {\"sample_mean\": 4.2884364916379925}, {\"sample_mean\": 5.071613473811033}, {\"sample_mean\": 5.440752646269523}, {\"sample_mean\": 4.547607572717726}, {\"sample_mean\": 5.001135492449007}, {\"sample_mean\": 6.006592039974087}, {\"sample_mean\": 4.952134364814168}, {\"sample_mean\": 4.8598812606588995}, {\"sample_mean\": 4.036131880150935}, {\"sample_mean\": 4.571682550871627}, {\"sample_mean\": 4.496104981356144}, {\"sample_mean\": 5.582247043860224}, {\"sample_mean\": 4.963042225296073}, {\"sample_mean\": 4.910932410145957}, {\"sample_mean\": 5.322060629435993}, {\"sample_mean\": 4.557751086227665}, {\"sample_mean\": 4.132582240200983}, {\"sample_mean\": 4.888784314484869}, {\"sample_mean\": 3.7145059029552874}, {\"sample_mean\": 4.618029109679339}, {\"sample_mean\": 5.522693799858633}, {\"sample_mean\": 4.654766487626622}, {\"sample_mean\": 5.41212089643543}, {\"sample_mean\": 4.248209632607617}, {\"sample_mean\": 5.991440061353211}, {\"sample_mean\": 5.564274891018667}, {\"sample_mean\": 5.792954763056222}, {\"sample_mean\": 5.094340882897773}, {\"sample_mean\": 5.5880000093671605}, {\"sample_mean\": 5.037189557643096}, {\"sample_mean\": 5.225129055379992}, {\"sample_mean\": 4.621839562320611}, {\"sample_mean\": 5.906988659354106}, {\"sample_mean\": 4.7981169749501085}, {\"sample_mean\": 4.7738951228019}, {\"sample_mean\": 4.96325797935535}, {\"sample_mean\": 4.431240806762046}, {\"sample_mean\": 4.80966782298596}, {\"sample_mean\": 4.343362981611229}, {\"sample_mean\": 4.73402007217016}, {\"sample_mean\": 4.906070993347936}, {\"sample_mean\": 5.775380745031189}, {\"sample_mean\": 5.3175223182509965}, {\"sample_mean\": 4.695765036543732}, {\"sample_mean\": 5.068410728028563}, {\"sample_mean\": 5.60821544282131}, {\"sample_mean\": 5.298629341577589}, {\"sample_mean\": 5.1793831919399205}, {\"sample_mean\": 5.3459954884295735}, {\"sample_mean\": 5.081715315454691}, {\"sample_mean\": 5.097783039023053}, {\"sample_mean\": 4.387062813503952}, {\"sample_mean\": 5.552392971883207}, {\"sample_mean\": 5.485264361583332}, {\"sample_mean\": 5.4244098186221255}, {\"sample_mean\": 3.982844232481986}, {\"sample_mean\": 4.886169569759499}, {\"sample_mean\": 4.851477971485243}, {\"sample_mean\": 5.47744233009281}, {\"sample_mean\": 4.597623739790658}, {\"sample_mean\": 5.29565824357619}, {\"sample_mean\": 5.67619956497595}, {\"sample_mean\": 4.73739303734389}, {\"sample_mean\": 4.942990059323299}, {\"sample_mean\": 5.066993765689161}, {\"sample_mean\": 5.197453006524533}, {\"sample_mean\": 5.235671022230411}, {\"sample_mean\": 4.026724701145591}, {\"sample_mean\": 4.607858979205193}, {\"sample_mean\": 4.713082072380419}, {\"sample_mean\": 4.705637147784904}, {\"sample_mean\": 4.3771719735601184}, {\"sample_mean\": 5.525321577349796}, {\"sample_mean\": 5.059364401425137}, {\"sample_mean\": 4.576126973609343}, {\"sample_mean\": 4.963465940860596}, {\"sample_mean\": 5.937810388524541}, {\"sample_mean\": 4.853583590305841}, {\"sample_mean\": 4.774474386356064}, {\"sample_mean\": 4.223568905488758}, {\"sample_mean\": 4.296831588791602}, {\"sample_mean\": 4.903277696947205}, {\"sample_mean\": 5.615523093792743}, {\"sample_mean\": 4.41933604011805}, {\"sample_mean\": 4.8747362419858}, {\"sample_mean\": 5.244067339342044}, {\"sample_mean\": 5.124872078723363}, {\"sample_mean\": 5.261980366207338}, {\"sample_mean\": 5.762156924649849}, {\"sample_mean\": 4.505250769497027}, {\"sample_mean\": 5.893615176136741}, {\"sample_mean\": 5.332140081785367}, {\"sample_mean\": 4.889884416585073}, {\"sample_mean\": 5.098137575203316}, {\"sample_mean\": 4.25161285825206}, {\"sample_mean\": 4.6225154445322385}, {\"sample_mean\": 4.340470820924403}, {\"sample_mean\": 4.156264199529744}, {\"sample_mean\": 5.129627271567637}, {\"sample_mean\": 4.972739597881523}, {\"sample_mean\": 5.238186378961912}, {\"sample_mean\": 5.527694494674698}, {\"sample_mean\": 5.172712989117418}, {\"sample_mean\": 4.668251195230898}, {\"sample_mean\": 5.028781211589917}, {\"sample_mean\": 4.470387904601944}, {\"sample_mean\": 5.079794224233699}, {\"sample_mean\": 4.600157384828801}, {\"sample_mean\": 4.570614832902463}, {\"sample_mean\": 5.660093611451462}, {\"sample_mean\": 5.8399314248708905}, {\"sample_mean\": 4.605851319213964}, {\"sample_mean\": 4.584452385792995}, {\"sample_mean\": 4.187345828625099}, {\"sample_mean\": 3.935257470394199}, {\"sample_mean\": 5.777499678815376}, {\"sample_mean\": 4.834781135732864}, {\"sample_mean\": 5.134669205646539}, {\"sample_mean\": 5.392499339422123}, {\"sample_mean\": 4.597928122449624}, {\"sample_mean\": 5.238823039893389}, {\"sample_mean\": 4.607005097888129}, {\"sample_mean\": 4.795214113614267}, {\"sample_mean\": 4.776510723166758}, {\"sample_mean\": 5.411954133083523}, {\"sample_mean\": 4.782245987007697}, {\"sample_mean\": 4.314616838837782}, {\"sample_mean\": 5.0752135265170715}, {\"sample_mean\": 5.725402058299233}, {\"sample_mean\": 5.077400981768971}, {\"sample_mean\": 5.575133260643501}, {\"sample_mean\": 5.255747151350094}, {\"sample_mean\": 4.908552925697639}, {\"sample_mean\": 4.895450390546002}, {\"sample_mean\": 4.567171760492029}, {\"sample_mean\": 4.91040047227634}, {\"sample_mean\": 4.929446762756416}, {\"sample_mean\": 5.133733057363401}, {\"sample_mean\": 5.065251835073068}, {\"sample_mean\": 4.653171303737027}, {\"sample_mean\": 4.847603651814297}, {\"sample_mean\": 5.061881070979403}, {\"sample_mean\": 6.209695126837805}, {\"sample_mean\": 5.674587089030982}, {\"sample_mean\": 5.131011336728132}, {\"sample_mean\": 6.313049426531648}, {\"sample_mean\": 4.557114220689399}, {\"sample_mean\": 4.272449207067509}, {\"sample_mean\": 5.030278254761745}, {\"sample_mean\": 4.575569305370758}, {\"sample_mean\": 4.569922617459613}, {\"sample_mean\": 4.88714776999677}, {\"sample_mean\": 5.428286810847864}, {\"sample_mean\": 4.698807939106897}, {\"sample_mean\": 4.784172367636175}, {\"sample_mean\": 4.517247242111778}, {\"sample_mean\": 5.298082145708363}, {\"sample_mean\": 5.261522051166342}, {\"sample_mean\": 5.069020677230272}, {\"sample_mean\": 4.626161278219845}, {\"sample_mean\": 4.973211973586708}, {\"sample_mean\": 4.445460855242105}, {\"sample_mean\": 4.323352868347299}, {\"sample_mean\": 4.8509611482796196}, {\"sample_mean\": 4.671565926070858}, {\"sample_mean\": 6.231213276598927}, {\"sample_mean\": 4.010963164003257}, {\"sample_mean\": 4.742879332063994}, {\"sample_mean\": 5.481580218013279}, {\"sample_mean\": 4.964350459580082}, {\"sample_mean\": 4.2220646858852104}, {\"sample_mean\": 4.642185723647036}, {\"sample_mean\": 4.33913367345669}, {\"sample_mean\": 4.887557999795652}, {\"sample_mean\": 4.2398852551302175}, {\"sample_mean\": 3.793551179971636}, {\"sample_mean\": 5.285638501088012}, {\"sample_mean\": 5.703017006803558}, {\"sample_mean\": 5.058267677343918}, {\"sample_mean\": 4.303987785664975}, {\"sample_mean\": 5.041541881655085}, {\"sample_mean\": 4.990969344589741}, {\"sample_mean\": 5.255239016449192}, {\"sample_mean\": 4.098314331810662}, {\"sample_mean\": 4.603893539299859}, {\"sample_mean\": 4.905896325873626}, {\"sample_mean\": 5.722492399617089}, {\"sample_mean\": 4.574522020629744}, {\"sample_mean\": 4.73383369258736}, {\"sample_mean\": 5.133025320718627}, {\"sample_mean\": 5.1441947170511675}, {\"sample_mean\": 4.469177902217992}, {\"sample_mean\": 5.184124478119308}, {\"sample_mean\": 4.588861846829643}, {\"sample_mean\": 4.941052792777197}, {\"sample_mean\": 4.890543684162466}, {\"sample_mean\": 5.34057313668411}, {\"sample_mean\": 5.008270907116842}, {\"sample_mean\": 4.9433478526239885}, {\"sample_mean\": 5.4273296866712135}, {\"sample_mean\": 5.517713288844415}, {\"sample_mean\": 4.741993682923803}, {\"sample_mean\": 5.356746257159414}, {\"sample_mean\": 6.003027454136676}, {\"sample_mean\": 4.687308873498643}, {\"sample_mean\": 4.222636082913192}, {\"sample_mean\": 5.157923300340028}, {\"sample_mean\": 4.786258012605475}, {\"sample_mean\": 4.507587083829074}, {\"sample_mean\": 4.543481235016854}, {\"sample_mean\": 5.231746273379453}, {\"sample_mean\": 5.520868747567254}, {\"sample_mean\": 5.106473748709359}, {\"sample_mean\": 5.660977959384236}, {\"sample_mean\": 5.87027315702431}, {\"sample_mean\": 4.279096096868705}, {\"sample_mean\": 5.007366709704786}, {\"sample_mean\": 5.174938957308033}, {\"sample_mean\": 4.932221794907937}, {\"sample_mean\": 5.218481355467624}, {\"sample_mean\": 5.2253685896903725}, {\"sample_mean\": 4.691138662813106}, {\"sample_mean\": 5.418631787112504}, {\"sample_mean\": 5.014913764825852}, {\"sample_mean\": 5.532168086247029}, {\"sample_mean\": 4.579151186178776}, {\"sample_mean\": 4.660300175874613}, {\"sample_mean\": 5.820853789438201}, {\"sample_mean\": 4.988153222566626}, {\"sample_mean\": 4.939901832024329}, {\"sample_mean\": 4.7293316562358045}, {\"sample_mean\": 5.469102435633357}, {\"sample_mean\": 4.543017455780383}, {\"sample_mean\": 5.344674840728308}, {\"sample_mean\": 4.8626042772739995}, {\"sample_mean\": 5.399859601944893}, {\"sample_mean\": 5.214436261598577}, {\"sample_mean\": 4.951295492170766}, {\"sample_mean\": 4.931866316659583}, {\"sample_mean\": 4.368428098587663}, {\"sample_mean\": 5.6684987182079025}, {\"sample_mean\": 5.147226524226593}, {\"sample_mean\": 5.126295128524406}, {\"sample_mean\": 5.335654016193786}, {\"sample_mean\": 5.1725814492676605}, {\"sample_mean\": 5.062179518179811}, {\"sample_mean\": 5.615264273396097}, {\"sample_mean\": 4.945567276232052}, {\"sample_mean\": 5.5388888825882665}, {\"sample_mean\": 4.721524207720488}, {\"sample_mean\": 5.164053328806404}, {\"sample_mean\": 5.483596300782811}, {\"sample_mean\": 6.005590631244893}, {\"sample_mean\": 4.724218949826533}, {\"sample_mean\": 4.802692818962333}, {\"sample_mean\": 5.447053112170708}, {\"sample_mean\": 4.785637902917868}, {\"sample_mean\": 4.602025059744094}, {\"sample_mean\": 5.439651492493022}, {\"sample_mean\": 4.754710948760299}, {\"sample_mean\": 4.681687942169869}, {\"sample_mean\": 5.121851008511868}, {\"sample_mean\": 5.2151969820473845}, {\"sample_mean\": 5.094968248703041}, {\"sample_mean\": 5.338849400366666}, {\"sample_mean\": 4.33284118178723}, {\"sample_mean\": 4.8735601820903955}, {\"sample_mean\": 5.035030518468616}, {\"sample_mean\": 5.044861214753498}, {\"sample_mean\": 4.204861142096447}, {\"sample_mean\": 4.663595490424823}, {\"sample_mean\": 3.9622773694006894}, {\"sample_mean\": 5.040976917616139}, {\"sample_mean\": 5.606684891172486}, {\"sample_mean\": 4.821345513257482}, {\"sample_mean\": 5.3320578972930575}, {\"sample_mean\": 4.90302397286954}, {\"sample_mean\": 5.01321800514831}, {\"sample_mean\": 3.9489821272139825}, {\"sample_mean\": 5.538412667838918}, {\"sample_mean\": 5.810261176370439}, {\"sample_mean\": 4.103088838562921}, {\"sample_mean\": 4.510984734456725}, {\"sample_mean\": 3.953262061373857}, {\"sample_mean\": 4.951658567160422}, {\"sample_mean\": 4.8159573209919575}, {\"sample_mean\": 4.8057617897564455}, {\"sample_mean\": 4.556587327641296}, {\"sample_mean\": 5.199978223777602}, {\"sample_mean\": 5.771590080283135}, {\"sample_mean\": 5.26069723816646}, {\"sample_mean\": 5.305978245453052}, {\"sample_mean\": 4.695439168020874}, {\"sample_mean\": 4.426400980572409}, {\"sample_mean\": 4.755034249106215}, {\"sample_mean\": 4.982304969683679}, {\"sample_mean\": 4.388131445558151}, {\"sample_mean\": 5.25595526022439}, {\"sample_mean\": 5.5664367685704015}, {\"sample_mean\": 4.899509085034864}, {\"sample_mean\": 3.8480922221860254}, {\"sample_mean\": 4.581223050775571}, {\"sample_mean\": 4.548684121908937}, {\"sample_mean\": 4.287599208179136}, {\"sample_mean\": 4.490998005113797}, {\"sample_mean\": 4.860301599104934}, {\"sample_mean\": 5.137097343433812}, {\"sample_mean\": 5.051429226476251}, {\"sample_mean\": 4.54430960533466}, {\"sample_mean\": 4.257850441424231}, {\"sample_mean\": 4.830570563007706}, {\"sample_mean\": 5.943533796656115}, {\"sample_mean\": 4.677034959035073}, {\"sample_mean\": 5.887278251755938}, {\"sample_mean\": 4.364770900803409}, {\"sample_mean\": 4.486335624248926}, {\"sample_mean\": 4.646463401080361}, {\"sample_mean\": 4.092810348595551}, {\"sample_mean\": 5.104689030660532}, {\"sample_mean\": 5.019886939542152}, {\"sample_mean\": 4.916045684037689}, {\"sample_mean\": 3.9822481185015217}, {\"sample_mean\": 4.6006160981681035}, {\"sample_mean\": 5.667988830388072}, {\"sample_mean\": 4.922998632073473}, {\"sample_mean\": 4.292011783396312}, {\"sample_mean\": 5.3887684331242305}, {\"sample_mean\": 5.481192882844938}, {\"sample_mean\": 4.970519923913573}, {\"sample_mean\": 4.286989211864615}, {\"sample_mean\": 5.160163875701129}, {\"sample_mean\": 5.111738192709356}, {\"sample_mean\": 5.976899064375224}, {\"sample_mean\": 4.434615461694424}, {\"sample_mean\": 5.153687783539099}, {\"sample_mean\": 4.964552503168477}, {\"sample_mean\": 5.922665033352818}, {\"sample_mean\": 4.788290221979446}, {\"sample_mean\": 4.924364094678058}, {\"sample_mean\": 4.756379502661074}, {\"sample_mean\": 4.614853431932636}, {\"sample_mean\": 4.949817790629405}, {\"sample_mean\": 4.826262009130063}, {\"sample_mean\": 5.618647928258597}, {\"sample_mean\": 5.063310397506199}, {\"sample_mean\": 5.107054716304056}, {\"sample_mean\": 6.472833573577454}, {\"sample_mean\": 4.348458433085733}, {\"sample_mean\": 4.88529832856329}, {\"sample_mean\": 5.14892004977301}, {\"sample_mean\": 5.25474633663192}, {\"sample_mean\": 5.725189255836817}, {\"sample_mean\": 5.216935102867135}, {\"sample_mean\": 5.438313512108721}, {\"sample_mean\": 5.603097996717323}, {\"sample_mean\": 5.224390726991276}, {\"sample_mean\": 5.829344455574544}, {\"sample_mean\": 5.0677161215423165}, {\"sample_mean\": 3.9819123926921574}, {\"sample_mean\": 4.430024039687576}, {\"sample_mean\": 4.370099414598139}, {\"sample_mean\": 5.673599085801292}, {\"sample_mean\": 5.1431659282647795}, {\"sample_mean\": 4.457538521838467}, {\"sample_mean\": 5.276281843135754}, {\"sample_mean\": 5.588008601008689}, {\"sample_mean\": 5.336709794968933}, {\"sample_mean\": 4.6493534488177275}, {\"sample_mean\": 5.203402997681456}, {\"sample_mean\": 4.636920118850594}, {\"sample_mean\": 4.2125211925098505}, {\"sample_mean\": 4.618189368871619}, {\"sample_mean\": 5.34806797689026}, {\"sample_mean\": 5.333281135725596}, {\"sample_mean\": 5.303516038989025}, {\"sample_mean\": 4.1462739847683165}, {\"sample_mean\": 4.6958040805813335}, {\"sample_mean\": 4.215772652938651}, {\"sample_mean\": 5.333788034631213}, {\"sample_mean\": 5.122843780163552}, {\"sample_mean\": 5.778322358030115}, {\"sample_mean\": 4.443394246821826}, {\"sample_mean\": 5.582745266527817}, {\"sample_mean\": 4.150567150092092}, {\"sample_mean\": 4.96253396278904}, {\"sample_mean\": 5.24542998145588}, {\"sample_mean\": 5.3370133171347724}, {\"sample_mean\": 5.582200141921112}, {\"sample_mean\": 4.413779250821773}, {\"sample_mean\": 4.263668539448064}, {\"sample_mean\": 5.223213049606284}, {\"sample_mean\": 5.8378601059254445}, {\"sample_mean\": 4.2736416020559265}, {\"sample_mean\": 5.13606552621684}, {\"sample_mean\": 4.929790383063422}, {\"sample_mean\": 5.383105325096993}, {\"sample_mean\": 5.31043878793314}, {\"sample_mean\": 4.75740536974003}, {\"sample_mean\": 4.632832882040626}, {\"sample_mean\": 5.08200750368983}, {\"sample_mean\": 4.611951421897042}, {\"sample_mean\": 4.246087130340394}, {\"sample_mean\": 5.165116755248608}, {\"sample_mean\": 4.7577928556797815}, {\"sample_mean\": 4.215331489613777}, {\"sample_mean\": 4.258438770772897}, {\"sample_mean\": 5.179853852265234}, {\"sample_mean\": 5.04270673340725}, {\"sample_mean\": 4.075622078416226}, {\"sample_mean\": 4.587722754320299}, {\"sample_mean\": 4.78322043779892}, {\"sample_mean\": 5.231212344941182}, {\"sample_mean\": 4.903693009032486}, {\"sample_mean\": 4.406751520607441}, {\"sample_mean\": 4.669541120502796}, {\"sample_mean\": 5.449797581288801}, {\"sample_mean\": 5.090687103738662}, {\"sample_mean\": 3.8834934640524272}, {\"sample_mean\": 5.198127020944517}, {\"sample_mean\": 5.167267613308969}, {\"sample_mean\": 4.625382967588618}, {\"sample_mean\": 4.01120761611853}, {\"sample_mean\": 4.771760955159718}, {\"sample_mean\": 5.061400520382503}, {\"sample_mean\": 4.556512102201463}, {\"sample_mean\": 4.979943310761596}, {\"sample_mean\": 4.968086242385631}, {\"sample_mean\": 4.871423966739349}, {\"sample_mean\": 5.235572826576453}, {\"sample_mean\": 5.575752664846471}, {\"sample_mean\": 4.633475059587445}, {\"sample_mean\": 5.613193600621031}, {\"sample_mean\": 4.158215011237001}, {\"sample_mean\": 5.678248507418676}, {\"sample_mean\": 5.192691859218685}, {\"sample_mean\": 4.459365741512312}, {\"sample_mean\": 4.844249535594416}, {\"sample_mean\": 5.003793557368788}, {\"sample_mean\": 4.433726109309027}, {\"sample_mean\": 5.7511605856149455}, {\"sample_mean\": 4.011869871784867}, {\"sample_mean\": 5.986875373711885}, {\"sample_mean\": 4.500872575993009}], \"data-a3a81a5f0d04bfc8b61f0bab463f1214\": [{\"x\": 3.0, \"pdf\": 0.00026766045152977074}, {\"x\": 3.02, \"pdf\": 0.0003138512681310645}, {\"x\": 3.04, \"pdf\": 0.0003674249960049142}, {\"x\": 3.06, \"pdf\": 0.0004294559630007341}, {\"x\": 3.08, \"pdf\": 0.0005011568897817215}, {\"x\": 3.1, \"pdf\": 0.0005838938515829205}, {\"x\": 3.12, \"pdf\": 0.0006792024249673096}, {\"x\": 3.14, \"pdf\": 0.0007888050499383139}, {\"x\": 3.16, \"pdf\": 0.0009146296281197152}, {\"x\": 3.18, \"pdf\": 0.0010588293661898715}, {\"x\": 3.2, \"pdf\": 0.0012238038602275462}, {\"x\": 3.22, \"pdf\": 0.001412221400976075}, {\"x\": 3.24, \"pdf\": 0.0016270424621636183}, {\"x\": 3.26, \"pdf\": 0.001871544313854956}, {\"x\": 3.2800000000000002, \"pdf\": 0.0021493466803074734}, {\"x\": 3.3, \"pdf\": 0.0024644383369460355}, {\"x\": 3.32, \"pdf\": 0.0028212045138827652}, {\"x\": 3.34, \"pdf\": 0.0032244549439542462}, {\"x\": 3.36, \"pdf\": 0.0036794523616485554}, {\"x\": 3.38, \"pdf\": 0.004191941225715884}, {\"x\": 3.4, \"pdf\": 0.004768176402929681}, {\"x\": 3.42, \"pdf\": 0.005414951513681401}, {\"x\": 3.44, \"pdf\": 0.006139626602209481}, {\"x\": 3.46, \"pdf\": 0.006950154755709876}, {\"x\": 3.48, \"pdf\": 0.007855107257849558}, {\"x\": 3.5, \"pdf\": 0.008863696823876015}, {\"x\": 3.52, \"pdf\": 0.009985798427224753}, {\"x\": 3.54, \"pdf\": 0.011231967191981938}, {\"x\": 3.56, \"pdf\": 0.012613452792531855}, {\"x\": 3.58, \"pdf\": 0.014142209772038897}, {\"x\": 3.6, \"pdf\": 0.015830903165959937}, {\"x\": 3.62, \"pdf\": 0.017692908796474463}, {\"x\": 3.64, \"pdf\": 0.01974230758950229}, {\"x\": 3.66, \"pdf\": 0.021993873258811174}, {\"x\": 3.68, \"pdf\": 0.024463052702555978}, {\"x\": 3.7, \"pdf\": 0.027165938467371267}, {\"x\": 3.7199999999999998, \"pdf\": 0.03011923265475486}, {\"x\": 3.74, \"pdf\": 0.033340201674762156}, {\"x\": 3.76, \"pdf\": 0.03684662129372406}, {\"x\": 3.7800000000000002, \"pdf\": 0.04065671147645171}, {\"x\": 3.8, \"pdf\": 0.044789060589685764}, {\"x\": 3.8200000000000003, \"pdf\": 0.04926253861276506}, {\"x\": 3.84, \"pdf\": 0.05409619909376353}, {\"x\": 3.86, \"pdf\": 0.0593091696946825}, {\"x\": 3.88, \"pdf\": 0.06492053128739489}, {\"x\": 3.9, \"pdf\": 0.07094918569246285}, {\"x\": 3.92, \"pdf\": 0.07741371229491122}, {\"x\": 3.94, \"pdf\": 0.08433221392354062}, {\"x\": 3.96, \"pdf\": 0.09172215254210979}, {\"x\": 3.98, \"pdf\": 0.09960017547014155}, {\"x\": 4.0, \"pdf\": 0.10798193302637613}, {\"x\": 4.02, \"pdf\": 0.11688188866690274}, {\"x\": 4.04, \"pdf\": 0.1263131228703973}, {\"x\": 4.0600000000000005, \"pdf\": 0.1362871322020894}, {\"x\": 4.08, \"pdf\": 0.14681362516331384}, {\"x\": 4.1, \"pdf\": 0.15790031660178813}, {\"x\": 4.12, \"pdf\": 0.1695527226160445}, {\"x\": 4.140000000000001, \"pdf\": 0.18177395803256607}, {\"x\": 4.16, \"pdf\": 0.19456453866293508}, {\"x\": 4.18, \"pdf\": 0.2079221906575282}, {\"x\": 4.2, \"pdf\": 0.22184166935891128}, {\"x\": 4.22, \"pdf\": 0.23631459011916442}, {\"x\": 4.24, \"pdf\": 0.25132927357817647}, {\"x\": 4.26, \"pdf\": 0.26687060790200445}, {\"x\": 4.28, \"pdf\": 0.28291993044967784}, {\"x\": 4.3, \"pdf\": 0.2994549312714896}, {\"x\": 4.32, \"pdf\": 0.3164495807407664}, {\"x\": 4.34, \"pdf\": 0.3338740834834275}, {\"x\": 4.36, \"pdf\": 0.35169486059532507}, {\"x\": 4.38, \"pdf\": 0.3698745619266105}, {\"x\": 4.4, \"pdf\": 0.38837210996642624}, {\"x\": 4.42, \"pdf\": 0.4071427765815188}, {\"x\": 4.4399999999999995, \"pdf\": 0.42613829355143534}, {\"x\": 4.46, \"pdf\": 0.4453069975035223}, {\"x\": 4.48, \"pdf\": 0.46459400948673285}, {\"x\": 4.5, \"pdf\": 0.48394144903828673}, {\"x\": 4.52, \"pdf\": 0.5032886821962339}, {\"x\": 4.54, \"pdf\": 0.5225726024991063}, {\"x\": 4.5600000000000005, \"pdf\": 0.5417279435966765}, {\"x\": 4.58, \"pdf\": 0.5606876216792412}, {\"x\": 4.6, \"pdf\": 0.5793831055229652}, {\"x\": 4.62, \"pdf\": 0.5977448115519057}, {\"x\": 4.640000000000001, \"pdf\": 0.6157025209397063}, {\"x\": 4.66, \"pdf\": 0.6331858154217858}, {\"x\": 4.68, \"pdf\": 0.650124528168164}, {\"x\": 4.7, \"pdf\": 0.6664492057835995}, {\"x\": 4.72, \"pdf\": 0.682091577260705}, {\"x\": 4.74, \"pdf\": 0.6969850255179492}, {\"x\": 4.76, \"pdf\": 0.7110650570119941}, {\"x\": 4.78, \"pdf\": 0.7242697648261847}, {\"x\": 4.8, \"pdf\": 0.7365402806066466}, {\"x\": 4.82, \"pdf\": 0.747821210746257}, {\"x\": 4.84, \"pdf\": 0.7580610523054033}, {\"x\": 4.86, \"pdf\": 0.7672125843069573}, {\"x\": 4.88, \"pdf\": 0.7752332302500282}, {\"x\": 4.9, \"pdf\": 0.782085387950912}, {\"x\": 4.92, \"pdf\": 0.7877367231370817}, {\"x\": 4.9399999999999995, \"pdf\": 0.7921604235873122}, {\"x\": 4.96, \"pdf\": 0.7953354110232178}, {\"x\": 4.98, \"pdf\": 0.7972465084092101}, {\"x\": 5.0, \"pdf\": 0.7978845608028654}, {\"x\": 5.02, \"pdf\": 0.7972465084092101}, {\"x\": 5.04, \"pdf\": 0.7953354110232178}, {\"x\": 5.0600000000000005, \"pdf\": 0.7921604235873122}, {\"x\": 5.08, \"pdf\": 0.7877367231370817}, {\"x\": 5.1, \"pdf\": 0.782085387950912}, {\"x\": 5.12, \"pdf\": 0.7752332302500282}, {\"x\": 5.140000000000001, \"pdf\": 0.7672125843069568}, {\"x\": 5.16, \"pdf\": 0.7580610523054033}, {\"x\": 5.18, \"pdf\": 0.747821210746257}, {\"x\": 5.2, \"pdf\": 0.7365402806066466}, {\"x\": 5.220000000000001, \"pdf\": 0.724269764826184}, {\"x\": 5.24, \"pdf\": 0.7110650570119941}, {\"x\": 5.26, \"pdf\": 0.6969850255179492}, {\"x\": 5.28, \"pdf\": 0.682091577260705}, {\"x\": 5.300000000000001, \"pdf\": 0.6664492057835988}, {\"x\": 5.32, \"pdf\": 0.650124528168164}, {\"x\": 5.34, \"pdf\": 0.6331858154217858}, {\"x\": 5.359999999999999, \"pdf\": 0.6157025209397063}, {\"x\": 5.38, \"pdf\": 0.5977448115519057}, {\"x\": 5.4, \"pdf\": 0.5793831055229652}, {\"x\": 5.42, \"pdf\": 0.5606876216792412}, {\"x\": 5.4399999999999995, \"pdf\": 0.5417279435966765}, {\"x\": 5.46, \"pdf\": 0.5225726024991063}, {\"x\": 5.48, \"pdf\": 0.5032886821962339}, {\"x\": 5.5, \"pdf\": 0.48394144903828673}, {\"x\": 5.52, \"pdf\": 0.46459400948673285}, {\"x\": 5.54, \"pdf\": 0.4453069975035223}, {\"x\": 5.5600000000000005, \"pdf\": 0.42613829355143534}, {\"x\": 5.58, \"pdf\": 0.4071427765815188}, {\"x\": 5.6, \"pdf\": 0.38837210996642624}, {\"x\": 5.62, \"pdf\": 0.3698745619266105}, {\"x\": 5.640000000000001, \"pdf\": 0.35169486059532423}, {\"x\": 5.66, \"pdf\": 0.3338740834834275}, {\"x\": 5.68, \"pdf\": 0.3164495807407664}, {\"x\": 5.7, \"pdf\": 0.2994549312714896}, {\"x\": 5.720000000000001, \"pdf\": 0.28291993044967706}, {\"x\": 5.74, \"pdf\": 0.26687060790200445}, {\"x\": 5.76, \"pdf\": 0.25132927357817647}, {\"x\": 5.78, \"pdf\": 0.23631459011916442}, {\"x\": 5.800000000000001, \"pdf\": 0.22184166935891064}, {\"x\": 5.82, \"pdf\": 0.2079221906575282}, {\"x\": 5.84, \"pdf\": 0.19456453866293508}, {\"x\": 5.859999999999999, \"pdf\": 0.18177395803256607}, {\"x\": 5.88, \"pdf\": 0.1695527226160445}, {\"x\": 5.9, \"pdf\": 0.15790031660178813}, {\"x\": 5.92, \"pdf\": 0.14681362516331384}, {\"x\": 5.9399999999999995, \"pdf\": 0.1362871322020894}, {\"x\": 5.96, \"pdf\": 0.1263131228703973}, {\"x\": 5.98, \"pdf\": 0.11688188866690274}, {\"x\": 6.0, \"pdf\": 0.10798193302637613}, {\"x\": 6.02, \"pdf\": 0.09960017547014173}, {\"x\": 6.04, \"pdf\": 0.09172215254210979}, {\"x\": 6.0600000000000005, \"pdf\": 0.08433221392354047}, {\"x\": 6.08, \"pdf\": 0.07741371229491122}, {\"x\": 6.1, \"pdf\": 0.07094918569246297}, {\"x\": 6.12, \"pdf\": 0.06492053128739489}, {\"x\": 6.140000000000001, \"pdf\": 0.059309169694682404}, {\"x\": 6.16, \"pdf\": 0.05409619909376353}, {\"x\": 6.18, \"pdf\": 0.04926253861276506}, {\"x\": 6.2, \"pdf\": 0.044789060589685764}, {\"x\": 6.220000000000001, \"pdf\": 0.04065671147645155}, {\"x\": 6.24, \"pdf\": 0.03684662129372406}, {\"x\": 6.26, \"pdf\": 0.033340201674762156}, {\"x\": 6.28, \"pdf\": 0.03011923265475486}, {\"x\": 6.300000000000001, \"pdf\": 0.027165938467371135}, {\"x\": 6.32, \"pdf\": 0.02446305270255591}, {\"x\": 6.34, \"pdf\": 0.021993873258811174}, {\"x\": 6.359999999999999, \"pdf\": 0.019742307589502343}, {\"x\": 6.38, \"pdf\": 0.017692908796474463}, {\"x\": 6.4, \"pdf\": 0.015830903165959892}, {\"x\": 6.42, \"pdf\": 0.014142209772038897}, {\"x\": 6.4399999999999995, \"pdf\": 0.012613452792531891}, {\"x\": 6.46, \"pdf\": 0.011231967191981938}, {\"x\": 6.48, \"pdf\": 0.009985798427224725}, {\"x\": 6.5, \"pdf\": 0.008863696823876015}, {\"x\": 6.52, \"pdf\": 0.007855107257849579}, {\"x\": 6.54, \"pdf\": 0.006950154755709876}, {\"x\": 6.5600000000000005, \"pdf\": 0.006139626602209465}, {\"x\": 6.58, \"pdf\": 0.005414951513681401}, {\"x\": 6.6, \"pdf\": 0.004768176402929697}, {\"x\": 6.62, \"pdf\": 0.004191941225715884}, {\"x\": 6.640000000000001, \"pdf\": 0.0036794523616485455}, {\"x\": 6.66, \"pdf\": 0.0032244549439542462}, {\"x\": 6.68, \"pdf\": 0.002821204513882772}, {\"x\": 6.7, \"pdf\": 0.0024644383369460355}, {\"x\": 6.720000000000001, \"pdf\": 0.00214934668030746}, {\"x\": 6.74, \"pdf\": 0.001871544313854956}, {\"x\": 6.76, \"pdf\": 0.0016270424621636183}, {\"x\": 6.78, \"pdf\": 0.00141222140097607}, {\"x\": 6.800000000000001, \"pdf\": 0.0012238038602275386}, {\"x\": 6.82, \"pdf\": 0.0010588293661898676}, {\"x\": 6.84, \"pdf\": 0.0009146296281197152}, {\"x\": 6.859999999999999, \"pdf\": 0.0007888050499383168}, {\"x\": 6.88, \"pdf\": 0.0006792024249673096}, {\"x\": 6.9, \"pdf\": 0.000583893851582919}, {\"x\": 6.92, \"pdf\": 0.0005011568897817215}, {\"x\": 6.9399999999999995, \"pdf\": 0.00042945596300073555}, {\"x\": 6.96, \"pdf\": 0.0003674249960049142}, {\"x\": 6.98, \"pdf\": 0.00031385126813106344}]}}, {\"mode\": \"vega-lite\"});\n",
       "</script>"
      ],
      "text/plain": [
       "alt.LayerChart(...)"
      ]
     },
     "execution_count": 22,
     "metadata": {},
     "output_type": "execute_result"
    }
   ],
   "source": [
    "data_kde = (alt\n",
    "                .Chart(plot_df)\n",
    "                .transform_density(\n",
    "                    'sample_mean',\n",
    "                    as_=['sample_mean', 'density'],\n",
    "                    extent=[3,7]\n",
    "                )\n",
    "                .mark_area()\n",
    "                .encode(x = alt.X(\"sample_mean:Q\",\n",
    "                                 title=\"Sample mean\"),\n",
    "                        y = \"density:Q\"))\n",
    "\n",
    "clt_line = (alt\n",
    "               .Chart(clt_df)\n",
    "               .mark_line(color = \"red\")\n",
    "               .encode(x = \"x\",\n",
    "                       y = \"pdf\"))\n",
    "\n",
    "data_kde + clt_line"
   ]
  },
  {
   "cell_type": "code",
   "execution_count": 23,
   "metadata": {},
   "outputs": [
    {
     "data": {
      "text/html": [
       "\n",
       "<div id=\"altair-viz-123a036ec7044248865b2d2dd79324a0\"></div>\n",
       "<script type=\"text/javascript\">\n",
       "  (function(spec, embedOpt){\n",
       "    let outputDiv = document.currentScript.previousElementSibling;\n",
       "    if (outputDiv.id !== \"altair-viz-123a036ec7044248865b2d2dd79324a0\") {\n",
       "      outputDiv = document.getElementById(\"altair-viz-123a036ec7044248865b2d2dd79324a0\");\n",
       "    }\n",
       "    const paths = {\n",
       "      \"vega\": \"https://cdn.jsdelivr.net/npm//vega@5?noext\",\n",
       "      \"vega-lib\": \"https://cdn.jsdelivr.net/npm//vega-lib?noext\",\n",
       "      \"vega-lite\": \"https://cdn.jsdelivr.net/npm//vega-lite@4.8.1?noext\",\n",
       "      \"vega-embed\": \"https://cdn.jsdelivr.net/npm//vega-embed@6?noext\",\n",
       "    };\n",
       "\n",
       "    function loadScript(lib) {\n",
       "      return new Promise(function(resolve, reject) {\n",
       "        var s = document.createElement('script');\n",
       "        s.src = paths[lib];\n",
       "        s.async = true;\n",
       "        s.onload = () => resolve(paths[lib]);\n",
       "        s.onerror = () => reject(`Error loading script: ${paths[lib]}`);\n",
       "        document.getElementsByTagName(\"head\")[0].appendChild(s);\n",
       "      });\n",
       "    }\n",
       "\n",
       "    function showError(err) {\n",
       "      outputDiv.innerHTML = `<div class=\"error\" style=\"color:red;\">${err}</div>`;\n",
       "      throw err;\n",
       "    }\n",
       "\n",
       "    function displayChart(vegaEmbed) {\n",
       "      vegaEmbed(outputDiv, spec, embedOpt)\n",
       "        .catch(err => showError(`Javascript Error: ${err.message}<br>This usually means there's a typo in your chart specification. See the javascript console for the full traceback.`));\n",
       "    }\n",
       "\n",
       "    if(typeof define === \"function\" && define.amd) {\n",
       "      requirejs.config({paths});\n",
       "      require([\"vega-embed\"], displayChart, err => showError(`Error loading script: ${err.message}`));\n",
       "    } else if (typeof vegaEmbed === \"function\") {\n",
       "      displayChart(vegaEmbed);\n",
       "    } else {\n",
       "      loadScript(\"vega\")\n",
       "        .then(() => loadScript(\"vega-lite\"))\n",
       "        .then(() => loadScript(\"vega-embed\"))\n",
       "        .catch(showError)\n",
       "        .then(() => displayChart(vegaEmbed));\n",
       "    }\n",
       "  })({\"config\": {\"view\": {\"continuousWidth\": 400, \"continuousHeight\": 300}}, \"layer\": [{\"data\": {\"name\": \"data-fe189f0dab92de80fbd2dfeee19856d3\"}, \"mark\": \"point\", \"encoding\": {\"x\": {\"type\": \"quantitative\", \"field\": \"sample_means\", \"scale\": {\"zero\": false}, \"title\": \"Sample mean quantile\"}, \"y\": {\"type\": \"quantitative\", \"field\": \"quantiles\", \"scale\": {\"zero\": false}, \"title\": \"Normal quantile\"}}}, {\"data\": {\"name\": \"data-45a2f245ae94a5b7f5a270882f782009\"}, \"mark\": {\"type\": \"line\", \"color\": \"red\"}, \"encoding\": {\"x\": {\"type\": \"quantitative\", \"field\": \"x\"}, \"y\": {\"type\": \"quantitative\", \"field\": \"y\"}}}], \"$schema\": \"https://vega.github.io/schema/vega-lite/v4.8.1.json\", \"datasets\": {\"data-fe189f0dab92de80fbd2dfeee19856d3\": [{\"sample_means\": 3.7145059029552874, \"quantiles\": 3.4548838469160934}, {\"sample_means\": 3.793551179971636, \"quantiles\": 3.6261093072775035}, {\"sample_means\": 3.8480922221860254, \"quantiles\": 3.71208534822555}, {\"sample_means\": 3.8834934640524272, \"quantiles\": 3.7713683048972815}, {\"sample_means\": 3.935257470394199, \"quantiles\": 3.8171909365678536}, {\"sample_means\": 3.9489821272139825, \"quantiles\": 3.8548160610723663}, {\"sample_means\": 3.953262061373857, \"quantiles\": 3.8868941153414127}, {\"sample_means\": 3.9622773694006894, \"quantiles\": 3.91495481120772}, {\"sample_means\": 3.97570677625328, \"quantiles\": 3.9399641551289246}, {\"sample_means\": 3.9819123926921574, \"quantiles\": 3.9625726328033455}, {\"sample_means\": 3.9822481185015217, \"quantiles\": 3.983239925373475}, {\"sample_means\": 3.982844232481986, \"quantiles\": 4.002303344916088}, {\"sample_means\": 4.010963164003257, \"quantiles\": 4.020018007729973}, {\"sample_means\": 4.01120761611853, \"quantiles\": 4.036581713368045}, {\"sample_means\": 4.011869871784867, \"quantiles\": 4.052151038004081}, {\"sample_means\": 4.026724701145591, \"quantiles\": 4.066852128270947}, {\"sample_means\": 4.036131880150935, \"quantiles\": 4.080788165376111}, {\"sample_means\": 4.075622078416226, \"quantiles\": 4.094044663523701}, {\"sample_means\": 4.092810348595551, \"quantiles\": 4.106693317253265}, {\"sample_means\": 4.098314331810662, \"quantiles\": 4.118794851068805}, {\"sample_means\": 4.103088838562921, \"quantiles\": 4.130401167357374}, {\"sample_means\": 4.132582240200983, \"quantiles\": 4.14155699078448}, {\"sample_means\": 4.1462739847683165, \"quantiles\": 4.152301144863932}, {\"sample_means\": 4.150567150092092, \"quantiles\": 4.162667555487838}, {\"sample_means\": 4.156264199529744, \"quantiles\": 4.1726860488244615}, {\"sample_means\": 4.158215011237001, \"quantiles\": 4.1823829923056755}, {\"sample_means\": 4.187345828625099, \"quantiles\": 4.191781814442489}, {\"sample_means\": 4.204861142096447, \"quantiles\": 4.200903430038592}, {\"sample_means\": 4.2125211925098505, \"quantiles\": 4.209766590800319}, {\"sample_means\": 4.215331489613777, \"quantiles\": 4.2183881765668625}, {\"sample_means\": 4.215772652938651, \"quantiles\": 4.226783438871626}, {\"sample_means\": 4.2220646858852104, \"quantiles\": 4.2349662059310855}, {\"sample_means\": 4.222636082913192, \"quantiles\": 4.2429490561903584}, {\"sample_means\": 4.223568905488758, \"quantiles\": 4.250743466060013}, {\"sample_means\": 4.239352344757026, \"quantiles\": 4.25835993633219}, {\"sample_means\": 4.2398852551302175, \"quantiles\": 4.26580810087717}, {\"sample_means\": 4.246087130340394, \"quantiles\": 4.273096820529712}, {\"sample_means\": 4.248209632607617, \"quantiles\": 4.280234264530772}, {\"sample_means\": 4.25161285825206, \"quantiles\": 4.2872279814597745}, {\"sample_means\": 4.257850441424231, \"quantiles\": 4.294084961249595}, {\"sample_means\": 4.258438770772897, \"quantiles\": 4.300811689601252}, {\"sample_means\": 4.263668539448064, \"quantiles\": 4.307414195893283}, {\"sample_means\": 4.272449207067509, \"quantiles\": 4.313898095500637}, {\"sample_means\": 4.2736416020559265, \"quantiles\": 4.320268627290871}, {\"sample_means\": 4.279096096868705, \"quantiles\": 4.32653068694486}, {\"sample_means\": 4.286989211864615, \"quantiles\": 4.332688856649903}, {\"sample_means\": 4.287599208179136, \"quantiles\": 4.338747431630782}, {\"sample_means\": 4.2884364916379925, \"quantiles\": 4.344710443915936}, {\"sample_means\": 4.292011783396312, \"quantiles\": 4.350581683678747}, {\"sample_means\": 4.296831588791602, \"quantiles\": 4.356364718446029}, {\"sample_means\": 4.303987785664975, \"quantiles\": 4.362062910425435}, {\"sample_means\": 4.309310385629281, \"quantiles\": 4.36767943216946}, {\"sample_means\": 4.314616838837782, \"quantiles\": 4.3732172807647745}, {\"sample_means\": 4.323352868347299, \"quantiles\": 4.378679290711059}, {\"sample_means\": 4.33284118178723, \"quantiles\": 4.384068145632508}, {\"sample_means\": 4.33913367345669, \"quantiles\": 4.389386388947216}, {\"sample_means\": 4.340470820924403, \"quantiles\": 4.394636433604202}, {\"sample_means\": 4.343362981611229, \"quantiles\": 4.399820570984571}, {\"sample_means\": 4.348458433085733, \"quantiles\": 4.404940979051789}, {\"sample_means\": 4.364770900803409, \"quantiles\": 4.4099997298261355}, {\"sample_means\": 4.368428098587663, \"quantiles\": 4.41499879624976}, {\"sample_means\": 4.370099414598139, \"quantiles\": 4.41994005850124}, {\"sample_means\": 4.3771719735601184, \"quantiles\": 4.424825309811996}, {\"sample_means\": 4.387062813503952, \"quantiles\": 4.429656261831189}, {\"sample_means\": 4.388131445558151, \"quantiles\": 4.434434549580683}, {\"sample_means\": 4.406751520607441, \"quantiles\": 4.4391617360372555}, {\"sample_means\": 4.413779250821773, \"quantiles\": 4.443839316375344}, {\"sample_means\": 4.416600089892131, \"quantiles\": 4.448468721900201}, {\"sample_means\": 4.41933604011805, \"quantiles\": 4.453051323698281}, {\"sample_means\": 4.426400980572409, \"quantiles\": 4.457588436029022}, {\"sample_means\": 4.430024039687576, \"quantiles\": 4.462081319479784}, {\"sample_means\": 4.431240806762046, \"quantiles\": 4.4665311839036175}, {\"sample_means\": 4.433726109309027, \"quantiles\": 4.470939191157612}, {\"sample_means\": 4.434615461694424, \"quantiles\": 4.475306457657948}, {\"sample_means\": 4.443394246821826, \"quantiles\": 4.479634056766228}, {\"sample_means\": 4.445460855242105, \"quantiles\": 4.483923021020347}, {\"sample_means\": 4.446852424740128, \"quantiles\": 4.488174344221956}, {\"sample_means\": 4.452693709737769, \"quantiles\": 4.492388983391486}, {\"sample_means\": 4.454078341842385, \"quantiles\": 4.496567860600739}, {\"sample_means\": 4.457538521838467, \"quantiles\": 4.50071186469217}, {\"sample_means\": 4.458114252499812, \"quantiles\": 4.504821852893213}, {\"sample_means\": 4.459365741512312, \"quantiles\": 4.508898652333265}, {\"sample_means\": 4.469177902217992, \"quantiles\": 4.512943061470345}, {\"sample_means\": 4.470387904601944, \"quantiles\": 4.5169558514338135}, {\"sample_means\": 4.486335624248926, \"quantiles\": 4.520937767289048}, {\"sample_means\": 4.490998005113797, \"quantiles\": 4.524889529229492}, {\"sample_means\": 4.496104981356144, \"quantiles\": 4.528811833701025}, {\"sample_means\": 4.500872575993009, \"quantiles\": 4.53270535446326}, {\"sample_means\": 4.505250769497027, \"quantiles\": 4.536570743591978}, {\"sample_means\": 4.507587083829074, \"quantiles\": 4.54040863242659}, {\"sample_means\": 4.508186729979856, \"quantiles\": 4.54421963246623}, {\"sample_means\": 4.510984734456725, \"quantiles\": 4.548004336217799}, {\"sample_means\": 4.517247242111778, \"quantiles\": 4.5517633179990415}, {\"sample_means\": 4.524237665862071, \"quantiles\": 4.555497134699488}, {\"sample_means\": 4.543017455780383, \"quantiles\": 4.559206326501912}, {\"sample_means\": 4.543481235016854, \"quantiles\": 4.5628914175667585}, {\"sample_means\": 4.54430960533466, \"quantiles\": 4.566552916681781}, {\"sample_means\": 4.547607572717726, \"quantiles\": 4.570191317879044}, {\"sample_means\": 4.548684121908937, \"quantiles\": 4.573807101021212}, {\"sample_means\": 4.556512102201463, \"quantiles\": 4.577400732358975}, {\"sample_means\": 4.556587327641296, \"quantiles\": 4.580972665061297}, {\"sample_means\": 4.557114220689399, \"quantiles\": 4.584523339720081}, {\"sample_means\": 4.557751086227665, \"quantiles\": 4.588053184830721}, {\"sample_means\": 4.567171760492029, \"quantiles\": 4.591562617249918}, {\"sample_means\": 4.569922617459613, \"quantiles\": 4.595052042632051}, {\"sample_means\": 4.570614832902463, \"quantiles\": 4.598521855845303}, {\"sample_means\": 4.571682550871627, \"quantiles\": 4.601972441368669}, {\"sample_means\": 4.574522020629744, \"quantiles\": 4.605404173670888}, {\"sample_means\": 4.575569305370758, \"quantiles\": 4.608817417572307}, {\"sample_means\": 4.576126973609343, \"quantiles\": 4.6122125285905575}, {\"sample_means\": 4.579151186178776, \"quantiles\": 4.6155898532709685}, {\"sample_means\": 4.581223050775571, \"quantiles\": 4.618949729502466}, {\"sample_means\": 4.584452385792995, \"quantiles\": 4.622292486819766}, {\"sample_means\": 4.587722754320299, \"quantiles\": 4.625618446692545}, {\"sample_means\": 4.588861846829643, \"quantiles\": 4.628927922802295}, {\"sample_means\": 4.597623739790658, \"quantiles\": 4.632221221307445}, {\"sample_means\": 4.597928122449624, \"quantiles\": 4.63549864109739}, {\"sample_means\": 4.600157384828801, \"quantiles\": 4.638760474035968}, {\"sample_means\": 4.6006160981681035, \"quantiles\": 4.642007005194897}, {\"sample_means\": 4.602025059744094, \"quantiles\": 4.645238513077696}, {\"sample_means\": 4.603893539299859, \"quantiles\": 4.648455269834535}, {\"sample_means\": 4.605851319213964, \"quantiles\": 4.651657541468475}, {\"sample_means\": 4.607005097888129, \"quantiles\": 4.654845588033483}, {\"sample_means\": 4.607858979205193, \"quantiles\": 4.658019663824659}, {\"sample_means\": 4.611951421897042, \"quantiles\": 4.661180017561002}, {\"sample_means\": 4.614853431932636, \"quantiles\": 4.664326892561097}, {\"sample_means\": 4.618029109679339, \"quantiles\": 4.667460526912039}, {\"sample_means\": 4.618189368871619, \"quantiles\": 4.670581153631906}, {\"sample_means\": 4.621839562320611, \"quantiles\": 4.6736890008261}, {\"sample_means\": 4.6225154445322385, \"quantiles\": 4.676784291837796}, {\"sample_means\": 4.625382967588618, \"quantiles\": 4.679867245392813}, {\"sample_means\": 4.626161278219845, \"quantiles\": 4.682938075739115}, {\"sample_means\": 4.632832882040626, \"quantiles\": 4.685996992781215}, {\"sample_means\": 4.633475059587445, \"quantiles\": 4.689044202209688}, {\"sample_means\": 4.636920118850594, \"quantiles\": 4.692079905626014}, {\"sample_means\": 4.642185723647036, \"quantiles\": 4.69510430066296}, {\"sample_means\": 4.646463401080361, \"quantiles\": 4.698117581100685}, {\"sample_means\": 4.6493534488177275, \"quantiles\": 4.701119936978761}, {\"sample_means\": 4.650334884405011, \"quantiles\": 4.704111554704276}, {\"sample_means\": 4.653171303737027, \"quantiles\": 4.7070926171562}, {\"sample_means\": 4.654766487626622, \"quantiles\": 4.710063303786148}, {\"sample_means\": 4.660300175874613, \"quantiles\": 4.713023790715713}, {\"sample_means\": 4.663595490424823, \"quantiles\": 4.7159742508305085}, {\"sample_means\": 4.668251195230898, \"quantiles\": 4.718914853871037}, {\"sample_means\": 4.669541120502796, \"quantiles\": 4.721845766520541}, {\"sample_means\": 4.671565926070858, \"quantiles\": 4.724767152489944}, {\"sample_means\": 4.677034959035073, \"quantiles\": 4.7276791726}, {\"sample_means\": 4.681687942169869, \"quantiles\": 4.730581984860775}, {\"sample_means\": 4.687308873498643, \"quantiles\": 4.733475744548546}, {\"sample_means\": 4.691138662813106, \"quantiles\": 4.736360604280246}, {\"sample_means\": 4.695439168020874, \"quantiles\": 4.739236714085534}, {\"sample_means\": 4.695765036543732, \"quantiles\": 4.742104221476586}, {\"sample_means\": 4.6958040805813335, \"quantiles\": 4.744963271515703}, {\"sample_means\": 4.698807939106897, \"quantiles\": 4.74781400688081}, {\"sample_means\": 4.705637147784904, \"quantiles\": 4.750656567928939}, {\"sample_means\": 4.713082072380419, \"quantiles\": 4.753491092757768}, {\"sample_means\": 4.714671488490385, \"quantiles\": 4.756317717265279}, {\"sample_means\": 4.721524207720488, \"quantiles\": 4.759136575207635}, {\"sample_means\": 4.724218949826533, \"quantiles\": 4.761947798255303}, {\"sample_means\": 4.7293316562358045, \"quantiles\": 4.76475151604753}, {\"sample_means\": 4.73383369258736, \"quantiles\": 4.767547856245203}, {\"sample_means\": 4.73402007217016, \"quantiles\": 4.770336944582168}, {\"sample_means\": 4.73739303734389, \"quantiles\": 4.77311890491506}, {\"sample_means\": 4.741993682923803, \"quantiles\": 4.7758938592716955}, {\"sample_means\": 4.742879332063994, \"quantiles\": 4.7786619278980895}, {\"sample_means\": 4.754710948760299, \"quantiles\": 4.7814232293041385}, {\"sample_means\": 4.755034249106215, \"quantiles\": 4.784177880308022}, {\"sample_means\": 4.756379502661074, \"quantiles\": 4.786925996079361}, {\"sample_means\": 4.75740536974003, \"quantiles\": 4.789667690181192}, {\"sample_means\": 4.7577928556797815, \"quantiles\": 4.792403074610787}, {\"sample_means\": 4.75955877347005, \"quantiles\": 4.7951322598393595}, {\"sample_means\": 4.771760955159718, \"quantiles\": 4.797855354850711}, {\"sample_means\": 4.7738951228019, \"quantiles\": 4.8005724671788315}, {\"sample_means\": 4.774474386356064, \"quantiles\": 4.803283702944517}, {\"sample_means\": 4.776510723166758, \"quantiles\": 4.8059891668910115}, {\"sample_means\": 4.779486625364043, \"quantiles\": 4.808688962418733}, {\"sample_means\": 4.782245987007697, \"quantiles\": 4.811383191619094}, {\"sample_means\": 4.78322043779892, \"quantiles\": 4.814071955307463}, {\"sample_means\": 4.784172367636175, \"quantiles\": 4.816755353055283}, {\"sample_means\": 4.785637902917868, \"quantiles\": 4.819433483221394}, {\"sample_means\": 4.786258012605475, \"quantiles\": 4.822106442982562}, {\"sample_means\": 4.788290221979446, \"quantiles\": 4.82477432836327}, {\"sample_means\": 4.795214113614267, \"quantiles\": 4.827437234264764}, {\"sample_means\": 4.7981169749501085, \"quantiles\": 4.830095254493417}, {\"sample_means\": 4.799023937684886, \"quantiles\": 4.832748481788394}, {\"sample_means\": 4.8000019762602, \"quantiles\": 4.835397007848674}, {\"sample_means\": 4.802692818962333, \"quantiles\": 4.838040923359434}, {\"sample_means\": 4.8057617897564455, \"quantiles\": 4.840680318017813}, {\"sample_means\": 4.80966782298596, \"quantiles\": 4.843315280558097}, {\"sample_means\": 4.8159573209919575, \"quantiles\": 4.845945898776322}, {\"sample_means\": 4.821345513257482, \"quantiles\": 4.8485722595543255}, {\"sample_means\": 4.826262009130063, \"quantiles\": 4.85119444888326}, {\"sample_means\": 4.830570563007706, \"quantiles\": 4.853812551886598}, {\"sample_means\": 4.834781135732864, \"quantiles\": 4.856426652842627}, {\"sample_means\": 4.836280360575326, \"quantiles\": 4.859036835206469}, {\"sample_means\": 4.844249535594416, \"quantiles\": 4.861643181631627}, {\"sample_means\": 4.844447542515295, \"quantiles\": 4.8642457739910805}, {\"sample_means\": 4.844927909126256, \"quantiles\": 4.866844693397953}, {\"sample_means\": 4.847603651814297, \"quantiles\": 4.869440020225741}, {\"sample_means\": 4.8509611482796196, \"quantiles\": 4.872031834128153}, {\"sample_means\": 4.851477971485243, \"quantiles\": 4.874620214058542}, {\"sample_means\": 4.853583590305841, \"quantiles\": 4.877205238288959}, {\"sample_means\": 4.855976374601904, \"quantiles\": 4.879786984428846}, {\"sample_means\": 4.8598812606588995, \"quantiles\": 4.88236552944336}, {\"sample_means\": 4.860301599104934, \"quantiles\": 4.884940949671368}, {\"sample_means\": 4.8626042772739995, \"quantiles\": 4.8875133208430945}, {\"sample_means\": 4.864730351194849, \"quantiles\": 4.8900827180974655}, {\"sample_means\": 4.871423966739349, \"quantiles\": 4.8926492159991275}, {\"sample_means\": 4.8735601820903955, \"quantiles\": 4.895212888555175}, {\"sample_means\": 4.8747362419858, \"quantiles\": 4.897773809231589}, {\"sample_means\": 4.884305380922941, \"quantiles\": 4.900332050969396}, {\"sample_means\": 4.88529832856329, \"quantiles\": 4.902887686200558}, {\"sample_means\": 4.886169569759499, \"quantiles\": 4.905440786863604}, {\"sample_means\": 4.88714776999677, \"quantiles\": 4.90799142441901}, {\"sample_means\": 4.887557999795652, \"quantiles\": 4.9105396698643435}, {\"sample_means\": 4.888784314484869, \"quantiles\": 4.913085593749169}, {\"sample_means\": 4.889884416585073, \"quantiles\": 4.915629266189731}, {\"sample_means\": 4.890543684162466, \"quantiles\": 4.91817075688343}, {\"sample_means\": 4.8950010569311955, \"quantiles\": 4.920710135123078}, {\"sample_means\": 4.895421713328705, \"quantiles\": 4.923247469810971}, {\"sample_means\": 4.895450390546002, \"quantiles\": 4.925782829472755}, {\"sample_means\": 4.897294222591481, \"quantiles\": 4.928316282271116}, {\"sample_means\": 4.899509085034864, \"quantiles\": 4.930847896019298}, {\"sample_means\": 4.90302397286954, \"quantiles\": 4.933377738194438}, {\"sample_means\": 4.903277696947205, \"quantiles\": 4.935905875950757}, {\"sample_means\": 4.903693009032486, \"quantiles\": 4.938432376132582}, {\"sample_means\": 4.905896325873626, \"quantiles\": 4.940957305287223}, {\"sample_means\": 4.906070993347936, \"quantiles\": 4.9434807296777175}, {\"sample_means\": 4.906127783082715, \"quantiles\": 4.946002715295423}, {\"sample_means\": 4.908552925697639, \"quantiles\": 4.948523327872498}, {\"sample_means\": 4.909820689908767, \"quantiles\": 4.95104263289425}, {\"sample_means\": 4.91040047227634, \"quantiles\": 4.953560695611372}, {\"sample_means\": 4.910932410145957, \"quantiles\": 4.956077581052064}, {\"sample_means\": 4.916045684037689, \"quantiles\": 4.958593354034059}, {\"sample_means\": 4.922998632073473, \"quantiles\": 4.961108079176542}, {\"sample_means\": 4.924364094678058, \"quantiles\": 4.963621820911981}, {\"sample_means\": 4.929446762756416, \"quantiles\": 4.96613464349787}, {\"sample_means\": 4.929790383063422, \"quantiles\": 4.968646611028393}, {\"sample_means\": 4.931866316659583, \"quantiles\": 4.971157787446008}, {\"sample_means\": 4.932221794907937, \"quantiles\": 4.973668236552966}, {\"sample_means\": 4.937501705473704, \"quantiles\": 4.976178022022761}, {\"sample_means\": 4.939901832024329, \"quantiles\": 4.978687207411528}, {\"sample_means\": 4.941052792777197, \"quantiles\": 4.981195856169372}, {\"sample_means\": 4.942990059323299, \"quantiles\": 4.983704031651668}, {\"sample_means\": 4.9433478526239885, \"quantiles\": 4.986211797130304}, {\"sample_means\": 4.945567276232052, \"quantiles\": 4.988719215804887}, {\"sample_means\": 4.94928194708776, \"quantiles\": 4.991226350813925}, {\"sample_means\": 4.949817790629405, \"quantiles\": 4.993733265245965}, {\"sample_means\": 4.951295492170766, \"quantiles\": 4.9962400221507295}, {\"sample_means\": 4.951658567160422, \"quantiles\": 4.998746684550214}, {\"sample_means\": 4.952134364814168, \"quantiles\": 5.001253315449786}, {\"sample_means\": 4.96253396278904, \"quantiles\": 5.0037599778492705}, {\"sample_means\": 4.963042225296073, \"quantiles\": 5.006266734754035}, {\"sample_means\": 4.96325797935535, \"quantiles\": 5.008773649186075}, {\"sample_means\": 4.963465940860596, \"quantiles\": 5.011280784195113}, {\"sample_means\": 4.964350459580082, \"quantiles\": 5.013788202869696}, {\"sample_means\": 4.964552503168477, \"quantiles\": 5.016295968348332}, {\"sample_means\": 4.968086242385631, \"quantiles\": 5.018804143830628}, {\"sample_means\": 4.969161761315454, \"quantiles\": 5.021312792588472}, {\"sample_means\": 4.970519923913573, \"quantiles\": 5.023821977977239}, {\"sample_means\": 4.972739597881523, \"quantiles\": 5.026331763447034}, {\"sample_means\": 4.973211973586708, \"quantiles\": 5.028842212553992}, {\"sample_means\": 4.979943310761596, \"quantiles\": 5.031353388971607}, {\"sample_means\": 4.982304969683679, \"quantiles\": 5.03386535650213}, {\"sample_means\": 4.983126246127656, \"quantiles\": 5.036378179088019}, {\"sample_means\": 4.9842422866911615, \"quantiles\": 5.038891920823458}, {\"sample_means\": 4.988153222566626, \"quantiles\": 5.041406645965941}, {\"sample_means\": 4.990969344589741, \"quantiles\": 5.043922418947936}, {\"sample_means\": 4.997956563867719, \"quantiles\": 5.046439304388628}, {\"sample_means\": 5.001135492449007, \"quantiles\": 5.04895736710575}, {\"sample_means\": 5.003793557368788, \"quantiles\": 5.051476672127502}, {\"sample_means\": 5.003890939523042, \"quantiles\": 5.053997284704577}, {\"sample_means\": 5.007366709704786, \"quantiles\": 5.0565192703222825}, {\"sample_means\": 5.008270907116842, \"quantiles\": 5.059042694712777}, {\"sample_means\": 5.01321800514831, \"quantiles\": 5.061567623867418}, {\"sample_means\": 5.0135337748645705, \"quantiles\": 5.064094124049243}, {\"sample_means\": 5.014913764825852, \"quantiles\": 5.066622261805562}, {\"sample_means\": 5.019886939542152, \"quantiles\": 5.069152103980702}, {\"sample_means\": 5.028781211589917, \"quantiles\": 5.071683717728884}, {\"sample_means\": 5.030278254761745, \"quantiles\": 5.074217170527245}, {\"sample_means\": 5.035030518468616, \"quantiles\": 5.076752530189029}, {\"sample_means\": 5.037189557643096, \"quantiles\": 5.079289864876922}, {\"sample_means\": 5.040976917616139, \"quantiles\": 5.08182924311657}, {\"sample_means\": 5.041541881655085, \"quantiles\": 5.084370733810269}, {\"sample_means\": 5.04270673340725, \"quantiles\": 5.086914406250831}, {\"sample_means\": 5.044861214753498, \"quantiles\": 5.0894603301356565}, {\"sample_means\": 5.051429226476251, \"quantiles\": 5.09200857558099}, {\"sample_means\": 5.058267677343918, \"quantiles\": 5.094559213136396}, {\"sample_means\": 5.059364401425137, \"quantiles\": 5.097112313799442}, {\"sample_means\": 5.061400520382503, \"quantiles\": 5.099667949030604}, {\"sample_means\": 5.061881070979403, \"quantiles\": 5.102226190768411}, {\"sample_means\": 5.062179518179811, \"quantiles\": 5.104787111444825}, {\"sample_means\": 5.062182647525491, \"quantiles\": 5.1073507840008725}, {\"sample_means\": 5.063310397506199, \"quantiles\": 5.1099172819025345}, {\"sample_means\": 5.065251835073068, \"quantiles\": 5.1124866791569055}, {\"sample_means\": 5.066993765689161, \"quantiles\": 5.115059050328632}, {\"sample_means\": 5.0677161215423165, \"quantiles\": 5.11763447055664}, {\"sample_means\": 5.068410728028563, \"quantiles\": 5.120213015571154}, {\"sample_means\": 5.069020677230272, \"quantiles\": 5.122794761711041}, {\"sample_means\": 5.071613473811033, \"quantiles\": 5.125379785941458}, {\"sample_means\": 5.0752135265170715, \"quantiles\": 5.127968165871847}, {\"sample_means\": 5.077400981768971, \"quantiles\": 5.130559979774259}, {\"sample_means\": 5.079794224233699, \"quantiles\": 5.133155306602047}, {\"sample_means\": 5.080797997219229, \"quantiles\": 5.1357542260089195}, {\"sample_means\": 5.081715315454691, \"quantiles\": 5.138356818368373}, {\"sample_means\": 5.08200750368983, \"quantiles\": 5.140963164793531}, {\"sample_means\": 5.0869431494478405, \"quantiles\": 5.143573347157373}, {\"sample_means\": 5.090687103738662, \"quantiles\": 5.146187448113402}, {\"sample_means\": 5.094340882897773, \"quantiles\": 5.14880555111674}, {\"sample_means\": 5.094968248703041, \"quantiles\": 5.1514277404456745}, {\"sample_means\": 5.097783039023053, \"quantiles\": 5.154054101223678}, {\"sample_means\": 5.098137575203316, \"quantiles\": 5.156684719441903}, {\"sample_means\": 5.104689030660532, \"quantiles\": 5.159319681982187}, {\"sample_means\": 5.106473748709359, \"quantiles\": 5.161959076640566}, {\"sample_means\": 5.107054716304056, \"quantiles\": 5.164602992151326}, {\"sample_means\": 5.111738192709356, \"quantiles\": 5.167251518211606}, {\"sample_means\": 5.121851008511868, \"quantiles\": 5.169904745506583}, {\"sample_means\": 5.122843780163552, \"quantiles\": 5.172562765735236}, {\"sample_means\": 5.124872078723363, \"quantiles\": 5.17522567163673}, {\"sample_means\": 5.126295128524406, \"quantiles\": 5.177893557017438}, {\"sample_means\": 5.129627271567637, \"quantiles\": 5.180566516778606}, {\"sample_means\": 5.131011336728132, \"quantiles\": 5.183244646944717}, {\"sample_means\": 5.133025320718627, \"quantiles\": 5.185928044692537}, {\"sample_means\": 5.133733057363401, \"quantiles\": 5.188616808380906}, {\"sample_means\": 5.134669205646539, \"quantiles\": 5.191311037581267}, {\"sample_means\": 5.13606552621684, \"quantiles\": 5.1940108331089885}, {\"sample_means\": 5.137097343433812, \"quantiles\": 5.196716297055484}, {\"sample_means\": 5.1431659282647795, \"quantiles\": 5.1994275328211685}, {\"sample_means\": 5.1441947170511675, \"quantiles\": 5.202144645149289}, {\"sample_means\": 5.147226524226593, \"quantiles\": 5.2048677401606405}, {\"sample_means\": 5.14892004977301, \"quantiles\": 5.207596925389214}, {\"sample_means\": 5.153687783539099, \"quantiles\": 5.210332309818808}, {\"sample_means\": 5.157923300340028, \"quantiles\": 5.21307400392064}, {\"sample_means\": 5.160163875701129, \"quantiles\": 5.215822119691978}, {\"sample_means\": 5.164053328806404, \"quantiles\": 5.2185767706958615}, {\"sample_means\": 5.165116755248608, \"quantiles\": 5.2213380721019105}, {\"sample_means\": 5.167267613308969, \"quantiles\": 5.2241061407283045}, {\"sample_means\": 5.1725814492676605, \"quantiles\": 5.22688109508494}, {\"sample_means\": 5.172712989117418, \"quantiles\": 5.229663055417832}, {\"sample_means\": 5.174938957308033, \"quantiles\": 5.232452143754798}, {\"sample_means\": 5.175835027741141, \"quantiles\": 5.23524848395247}, {\"sample_means\": 5.1793831919399205, \"quantiles\": 5.238052201744698}, {\"sample_means\": 5.179853852265234, \"quantiles\": 5.240863424792365}, {\"sample_means\": 5.184124478119308, \"quantiles\": 5.243682282734721}, {\"sample_means\": 5.192691859218685, \"quantiles\": 5.246508907242233}, {\"sample_means\": 5.197453006524533, \"quantiles\": 5.249343432071061}, {\"sample_means\": 5.198127020944517, \"quantiles\": 5.252185993119191}, {\"sample_means\": 5.199978223777602, \"quantiles\": 5.255036728484297}, {\"sample_means\": 5.203402997681456, \"quantiles\": 5.257895778523414}, {\"sample_means\": 5.2055280338660825, \"quantiles\": 5.260763285914466}, {\"sample_means\": 5.214436261598577, \"quantiles\": 5.263639395719754}, {\"sample_means\": 5.2151969820473845, \"quantiles\": 5.266524255451454}, {\"sample_means\": 5.216935102867135, \"quantiles\": 5.269418015139225}, {\"sample_means\": 5.218481355467624, \"quantiles\": 5.2723208274}, {\"sample_means\": 5.223213049606284, \"quantiles\": 5.275232847510056}, {\"sample_means\": 5.224390726991276, \"quantiles\": 5.278154233479459}, {\"sample_means\": 5.225129055379992, \"quantiles\": 5.281085146128963}, {\"sample_means\": 5.2253685896903725, \"quantiles\": 5.2840257491694915}, {\"sample_means\": 5.231212344941182, \"quantiles\": 5.286976209284287}, {\"sample_means\": 5.231746273379453, \"quantiles\": 5.289936696213852}, {\"sample_means\": 5.235572826576453, \"quantiles\": 5.2929073828438}, {\"sample_means\": 5.235671022230411, \"quantiles\": 5.295888445295724}, {\"sample_means\": 5.238186378961912, \"quantiles\": 5.298880063021239}, {\"sample_means\": 5.238823039893389, \"quantiles\": 5.301882418899315}, {\"sample_means\": 5.244067339342044, \"quantiles\": 5.30489569933704}, {\"sample_means\": 5.24542998145588, \"quantiles\": 5.307920094373986}, {\"sample_means\": 5.25474633663192, \"quantiles\": 5.310955797790312}, {\"sample_means\": 5.255239016449192, \"quantiles\": 5.314003007218785}, {\"sample_means\": 5.255747151350094, \"quantiles\": 5.317061924260885}, {\"sample_means\": 5.25595526022439, \"quantiles\": 5.320132754607187}, {\"sample_means\": 5.26069723816646, \"quantiles\": 5.323215708162204}, {\"sample_means\": 5.261522051166342, \"quantiles\": 5.3263109991739}, {\"sample_means\": 5.261980366207338, \"quantiles\": 5.329418846368094}, {\"sample_means\": 5.276281843135754, \"quantiles\": 5.332539473087961}, {\"sample_means\": 5.285638501088012, \"quantiles\": 5.335673107438903}, {\"sample_means\": 5.285867509704286, \"quantiles\": 5.338819982438998}, {\"sample_means\": 5.29565824357619, \"quantiles\": 5.341980336175341}, {\"sample_means\": 5.298082145708363, \"quantiles\": 5.345154411966517}, {\"sample_means\": 5.298629341577589, \"quantiles\": 5.348342458531525}, {\"sample_means\": 5.303516038989025, \"quantiles\": 5.351544730165465}, {\"sample_means\": 5.305978245453052, \"quantiles\": 5.354761486922304}, {\"sample_means\": 5.31043878793314, \"quantiles\": 5.357992994805103}, {\"sample_means\": 5.3175223182509965, \"quantiles\": 5.361239525964032}, {\"sample_means\": 5.320598668389769, \"quantiles\": 5.36450135890261}, {\"sample_means\": 5.322060629435993, \"quantiles\": 5.367778778692555}, {\"sample_means\": 5.327539852524845, \"quantiles\": 5.371072077197705}, {\"sample_means\": 5.3320578972930575, \"quantiles\": 5.374381553307455}, {\"sample_means\": 5.332140081785367, \"quantiles\": 5.377707513180234}, {\"sample_means\": 5.333281135725596, \"quantiles\": 5.381050270497534}, {\"sample_means\": 5.333788034631213, \"quantiles\": 5.3844101467290315}, {\"sample_means\": 5.335654016193786, \"quantiles\": 5.3877874714094425}, {\"sample_means\": 5.336709794968933, \"quantiles\": 5.391182582427693}, {\"sample_means\": 5.3370133171347724, \"quantiles\": 5.394595826329112}, {\"sample_means\": 5.338849400366666, \"quantiles\": 5.398027558631331}, {\"sample_means\": 5.34057313668411, \"quantiles\": 5.401478144154697}, {\"sample_means\": 5.344674840728308, \"quantiles\": 5.404947957367949}, {\"sample_means\": 5.3459954884295735, \"quantiles\": 5.408437382750082}, {\"sample_means\": 5.346809688801918, \"quantiles\": 5.411946815169279}, {\"sample_means\": 5.34806797689026, \"quantiles\": 5.415476660279919}, {\"sample_means\": 5.356746257159414, \"quantiles\": 5.419027334938703}, {\"sample_means\": 5.361108888885613, \"quantiles\": 5.422599267641025}, {\"sample_means\": 5.383105325096993, \"quantiles\": 5.426192898978788}, {\"sample_means\": 5.3887684331242305, \"quantiles\": 5.429808682120956}, {\"sample_means\": 5.392499339422123, \"quantiles\": 5.433447083318219}, {\"sample_means\": 5.399859601944893, \"quantiles\": 5.4371085824332415}, {\"sample_means\": 5.408202367182259, \"quantiles\": 5.440793673498088}, {\"sample_means\": 5.411954133083523, \"quantiles\": 5.444502865300512}, {\"sample_means\": 5.41212089643543, \"quantiles\": 5.4482366820009585}, {\"sample_means\": 5.418631787112504, \"quantiles\": 5.451995663782201}, {\"sample_means\": 5.4244098186221255, \"quantiles\": 5.45578036753377}, {\"sample_means\": 5.4273296866712135, \"quantiles\": 5.45959136757341}, {\"sample_means\": 5.428286810847864, \"quantiles\": 5.463429256408022}, {\"sample_means\": 5.438313512108721, \"quantiles\": 5.46729464553674}, {\"sample_means\": 5.439651492493022, \"quantiles\": 5.471188166298975}, {\"sample_means\": 5.440752646269523, \"quantiles\": 5.475110470770508}, {\"sample_means\": 5.447053112170708, \"quantiles\": 5.479062232710952}, {\"sample_means\": 5.449797581288801, \"quantiles\": 5.4830441485661865}, {\"sample_means\": 5.460907462529158, \"quantiles\": 5.487056938529655}, {\"sample_means\": 5.469102435633357, \"quantiles\": 5.491101347666735}, {\"sample_means\": 5.47744233009281, \"quantiles\": 5.495178147106787}, {\"sample_means\": 5.481192882844938, \"quantiles\": 5.49928813530783}, {\"sample_means\": 5.481580218013279, \"quantiles\": 5.503432139399261}, {\"sample_means\": 5.483596300782811, \"quantiles\": 5.507611016608514}, {\"sample_means\": 5.485264361583332, \"quantiles\": 5.511825655778044}, {\"sample_means\": 5.514328522163206, \"quantiles\": 5.516076978979653}, {\"sample_means\": 5.516115023552819, \"quantiles\": 5.520365943233772}, {\"sample_means\": 5.517713288844415, \"quantiles\": 5.524693542342052}, {\"sample_means\": 5.520868747567254, \"quantiles\": 5.529060808842388}, {\"sample_means\": 5.522693799858633, \"quantiles\": 5.5334688160963825}, {\"sample_means\": 5.525321577349796, \"quantiles\": 5.537918680520216}, {\"sample_means\": 5.527694494674698, \"quantiles\": 5.542411563970978}, {\"sample_means\": 5.532168086247029, \"quantiles\": 5.546948676301719}, {\"sample_means\": 5.538412667838918, \"quantiles\": 5.551531278099799}, {\"sample_means\": 5.5388888825882665, \"quantiles\": 5.556160683624656}, {\"sample_means\": 5.552392971883207, \"quantiles\": 5.5608382639627445}, {\"sample_means\": 5.555106569267623, \"quantiles\": 5.565565450419317}, {\"sample_means\": 5.564274891018667, \"quantiles\": 5.570343738168811}, {\"sample_means\": 5.5664367685704015, \"quantiles\": 5.575174690188004}, {\"sample_means\": 5.575133260643501, \"quantiles\": 5.58005994149876}, {\"sample_means\": 5.575752664846471, \"quantiles\": 5.58500120375024}, {\"sample_means\": 5.582200141921112, \"quantiles\": 5.5900002701738645}, {\"sample_means\": 5.582247043860224, \"quantiles\": 5.595059020948211}, {\"sample_means\": 5.582745266527817, \"quantiles\": 5.600179429015429}, {\"sample_means\": 5.587406995969563, \"quantiles\": 5.605363566395798}, {\"sample_means\": 5.5880000093671605, \"quantiles\": 5.610613611052784}, {\"sample_means\": 5.588008601008689, \"quantiles\": 5.615931854367492}, {\"sample_means\": 5.603097996717323, \"quantiles\": 5.621320709288941}, {\"sample_means\": 5.606684891172486, \"quantiles\": 5.6267827192352255}, {\"sample_means\": 5.60821544282131, \"quantiles\": 5.63232056783054}, {\"sample_means\": 5.613193600621031, \"quantiles\": 5.637937089574565}, {\"sample_means\": 5.615264273396097, \"quantiles\": 5.643635281553971}, {\"sample_means\": 5.615523093792743, \"quantiles\": 5.649418316321253}, {\"sample_means\": 5.618647928258597, \"quantiles\": 5.655289556084064}, {\"sample_means\": 5.660093611451462, \"quantiles\": 5.661252568369218}, {\"sample_means\": 5.660977959384236, \"quantiles\": 5.667311143350097}, {\"sample_means\": 5.667988830388072, \"quantiles\": 5.67346931305514}, {\"sample_means\": 5.6684987182079025, \"quantiles\": 5.679731372709129}, {\"sample_means\": 5.673599085801292, \"quantiles\": 5.686101904499363}, {\"sample_means\": 5.674587089030982, \"quantiles\": 5.692585804106717}, {\"sample_means\": 5.67619956497595, \"quantiles\": 5.699188310398748}, {\"sample_means\": 5.678248507418676, \"quantiles\": 5.705915038750405}, {\"sample_means\": 5.703017006803558, \"quantiles\": 5.7127720185402255}, {\"sample_means\": 5.722492399617089, \"quantiles\": 5.719765735469228}, {\"sample_means\": 5.725189255836817, \"quantiles\": 5.726903179470288}, {\"sample_means\": 5.725402058299233, \"quantiles\": 5.7341918991228304}, {\"sample_means\": 5.7511605856149455, \"quantiles\": 5.741640063667811}, {\"sample_means\": 5.762156924649849, \"quantiles\": 5.749256533939988}, {\"sample_means\": 5.769286391794031, \"quantiles\": 5.7570509438096416}, {\"sample_means\": 5.771590080283135, \"quantiles\": 5.7650337940689145}, {\"sample_means\": 5.775380745031189, \"quantiles\": 5.773216561128374}, {\"sample_means\": 5.777499678815376, \"quantiles\": 5.781611823433138}, {\"sample_means\": 5.778322358030115, \"quantiles\": 5.790233409199681}, {\"sample_means\": 5.792954763056222, \"quantiles\": 5.799096569961409}, {\"sample_means\": 5.810261176370439, \"quantiles\": 5.808218185557511}, {\"sample_means\": 5.820853789438201, \"quantiles\": 5.817617007694325}, {\"sample_means\": 5.829344455574544, \"quantiles\": 5.827313951175539}, {\"sample_means\": 5.8378601059254445, \"quantiles\": 5.837332444512163}, {\"sample_means\": 5.8399314248708905, \"quantiles\": 5.847698855136069}, {\"sample_means\": 5.87027315702431, \"quantiles\": 5.85844300921552}, {\"sample_means\": 5.887278251755938, \"quantiles\": 5.869598832642627}, {\"sample_means\": 5.893100322406236, \"quantiles\": 5.881205148931195}, {\"sample_means\": 5.893615176136741, \"quantiles\": 5.893306682746735}, {\"sample_means\": 5.9032909630256425, \"quantiles\": 5.905955336476299}, {\"sample_means\": 5.906988659354106, \"quantiles\": 5.919211834623889}, {\"sample_means\": 5.922665033352818, \"quantiles\": 5.933147871729053}, {\"sample_means\": 5.937810388524541, \"quantiles\": 5.947848961995919}, {\"sample_means\": 5.943533796656115, \"quantiles\": 5.963418286631955}, {\"sample_means\": 5.976899064375224, \"quantiles\": 5.979981992270027}, {\"sample_means\": 5.986875373711885, \"quantiles\": 5.997696655083912}, {\"sample_means\": 5.991440061353211, \"quantiles\": 6.016760074626525}, {\"sample_means\": 6.003027454136676, \"quantiles\": 6.0374273671966545}, {\"sample_means\": 6.005590631244893, \"quantiles\": 6.060035844871075}, {\"sample_means\": 6.006592039974087, \"quantiles\": 6.0850451887922805}, {\"sample_means\": 6.023461102339857, \"quantiles\": 6.113105884658587}, {\"sample_means\": 6.042034199711972, \"quantiles\": 6.145183938927634}, {\"sample_means\": 6.054765869670988, \"quantiles\": 6.182809063432146}, {\"sample_means\": 6.209695126837805, \"quantiles\": 6.2286316951027185}, {\"sample_means\": 6.231213276598927, \"quantiles\": 6.28791465177445}, {\"sample_means\": 6.313049426531648, \"quantiles\": 6.373890692722496}, {\"sample_means\": 6.472833573577454, \"quantiles\": 6.545116153083907}], \"data-45a2f245ae94a5b7f5a270882f782009\": [{\"x\": 3.6145059029552873, \"y\": 3.6145059029552873}, {\"x\": 6.572833573577453, \"y\": 6.572833573577453}]}}, {\"mode\": \"vega-lite\"});\n",
       "</script>"
      ],
      "text/plain": [
       "alt.LayerChart(...)"
      ]
     },
     "execution_count": 23,
     "metadata": {},
     "output_type": "execute_result"
    }
   ],
   "source": [
    "unit_mesh = [1 - (1 / len(sample_means)) * ix - (0.5 / len(sample_means)) for ix in range(0,len(sample_means))]\n",
    "quantile_vals = [stats.norm.isf(u, loc = 5, scale = clt_scale) for u in unit_mesh]\n",
    "sample_means.sort()\n",
    "quant_df = pd.DataFrame({\n",
    "    \"sample_means\": sample_means,\n",
    "    \"quantiles\": quantile_vals})\n",
    "\n",
    "ab_lims = [min(sample_means)-0.1, max(sample_means)+0.1]\n",
    "abline_df = pd.DataFrame({\"x\": ab_lims, \"y\": ab_lims})\n",
    "\n",
    "quant_points = (alt\n",
    "                   .Chart(quant_df)\n",
    "                   .mark_point()\n",
    "                   .encode(x =  alt.X('sample_means:Q',\n",
    "                                      scale=alt.Scale(zero=False),\n",
    "                                      title = \"Sample mean quantile\"),\n",
    "                           y = alt.Y('quantiles:Q',\n",
    "                                      scale=alt.Scale(zero=False),\n",
    "                                      title = \"Normal quantile\")))\n",
    "\n",
    "ab_line = (alt\n",
    "          .Chart(abline_df)\n",
    "          .mark_line(color = \"red\")\n",
    "          .encode(x = \"x\", y = \"y\"))\n",
    "\n",
    "quant_points + ab_line"
   ]
  },
  {
   "cell_type": "markdown",
   "metadata": {},
   "source": [
    "## Experimental results: flipping coins in series\n",
    "\n",
    "Professor Mittens asked 15 of his students to each take turns flipping a coin 30 times and recording how many heads they got. He has a sneaking suspicion that some of the students did not actually do this properly, that they just wrote down some garbage and went to lunch early. We will help Mittens work out whether the coin that was used was fair, i.e. has an equal chance of showing heads or tails.\n",
    "\n",
    "### Exercise 3 part I\n",
    "\n",
    "Read the data in `experiement1.csv` into a `DataFrame`. Use some of the commands you've seen in lectures to inspect the data, noting that it may not be in the optimal format for analysis."
   ]
  },
  {
   "cell_type": "code",
   "execution_count": 24,
   "metadata": {},
   "outputs": [],
   "source": [
    "df = pd.read_csv('experiment1.csv')"
   ]
  },
  {
   "cell_type": "code",
   "execution_count": 68,
   "metadata": {},
   "outputs": [],
   "source": [
    "df.head()\n",
    "sample_means = df.groupby(by =['name']).mean()\n",
    "sample_counts = df.groupby(by =['name']).sum()\n",
    "sample_means = sample_means.drop(['flip_number'], axis = 1)"
   ]
  },
  {
   "cell_type": "markdown",
   "metadata": {},
   "source": [
    "### Exercise 3 part II\n",
    "\n",
    "Compute the point estimate and CI using the function you wrote above. Write a sentence explaining whether you think the coin is a _fair_ coin given the results you have just obtained."
   ]
  },
  {
   "cell_type": "code",
   "execution_count": 55,
   "metadata": {},
   "outputs": [],
   "source": [
    "heads = len(df[df['outcome'] == 1]['outcome'])\n",
    "total = len(df)\n",
    "\n",
    "# Do not think it's a fair coin given that probability differs substantially between students"
   ]
  },
  {
   "cell_type": "code",
   "execution_count": 56,
   "metadata": {},
   "outputs": [
    {
     "data": {
      "text/plain": [
       "(0.49333333333333335, (0.44713979693549655, 0.5395268697311701))"
      ]
     },
     "execution_count": 56,
     "metadata": {},
     "output_type": "execute_result"
    }
   ],
   "source": [
    "wald_estimate_and_ci(total, heads)"
   ]
  },
  {
   "cell_type": "markdown",
   "metadata": {},
   "source": [
    "### Exercise 3 part III\n",
    "\n",
    "Generate a histogram of the number of heads from each student. As an extension, include the binomial distribution supported by your estimate that is most amenable to large value outcomes."
   ]
  },
  {
   "cell_type": "code",
   "execution_count": 64,
   "metadata": {},
   "outputs": [
    {
     "data": {
      "text/plain": [
       "<seaborn.axisgrid.FacetGrid at 0x7f83d0fd8e10>"
      ]
     },
     "execution_count": 64,
     "metadata": {},
     "output_type": "execute_result"
    },
    {
     "data": {
      "image/png": "[encoded data removed]",
      "text/plain": [
       "<Figure size 360x360 with 1 Axes>"
      ]
     },
     "metadata": {
      "needs_background": "light"
     },
     "output_type": "display_data"
    }
   ],
   "source": [
    "import seaborn as sns\n",
    "\n",
    "sns.displot(sample_means, x='outcome', binwidth=0.1)"
   ]
  },
  {
   "cell_type": "markdown",
   "metadata": {},
   "source": [
    "### Exercise 4 part I\n",
    "\n",
    "It looks like there might be a couple of strange points in this dataset as Mittens suspected. Using the upper bound on $p$ calculate the probability of someone getting all heads. Write a couple of sentences explaining whether you think it is reasonable to remove those data points."
   ]
  },
  {
   "cell_type": "code",
   "execution_count": 65,
   "metadata": {},
   "outputs": [
    {
     "data": {
      "text/plain": [
       "9.371579521404065e-09"
      ]
     },
     "execution_count": 65,
     "metadata": {},
     "output_type": "execute_result"
    }
   ],
   "source": [
    "stats.binom.pmf(k=30, n=30, p=0.54)"
   ]
  },
  {
   "cell_type": "markdown",
   "metadata": {},
   "source": [
    "### Exercise 4 part II\n",
    "\n",
    "Remove the outliers and repeat the process of plotting the data and estimating the parameters and CI. Once you have done this, plot the distribution of the estimated binomial distribution on top of the histogram. Write a couple of sentences explaining what you think about the coin now."
   ]
  },
  {
   "cell_type": "code",
   "execution_count": 69,
   "metadata": {},
   "outputs": [
    {
     "data": {
      "text/plain": [
       "<seaborn.axisgrid.FacetGrid at 0x7f83d15ec550>"
      ]
     },
     "execution_count": 69,
     "metadata": {},
     "output_type": "execute_result"
    },
    {
     "data": {
      "image/png": "[encoded data removed]",
      "text/plain": [
       "<Figure size 360x360 with 1 Axes>"
      ]
     },
     "metadata": {
      "needs_background": "light"
     },
     "output_type": "display_data"
    },
    {
     "data": {
      "image/png": "[encoded data removed]",
      "text/plain": [
       "<Figure size 360x360 with 1 Axes>"
      ]
     },
     "metadata": {
      "needs_background": "light"
     },
     "output_type": "display_data"
    }
   ],
   "source": [
    "sample_means_cleaned = sample_means[sample_means['outcome'] < 1]\n",
    "sns.displot(sample_means_cleaned, x='outcome')"
   ]
  },
  {
   "cell_type": "code",
   "execution_count": 70,
   "metadata": {},
   "outputs": [
    {
     "data": {
      "text/plain": [
       "<seaborn.axisgrid.FacetGrid at 0x7f83d16e5d10>"
      ]
     },
     "execution_count": 70,
     "metadata": {},
     "output_type": "execute_result"
    },
    {
     "data": {
      "image/png": "[encoded data removed]",
      "text/plain": [
       "<Figure size 360x360 with 1 Axes>"
      ]
     },
     "metadata": {
      "needs_background": "light"
     },
     "output_type": "display_data"
    }
   ],
   "source": [
    "sample_counts_cleaned = sample_counts[sample_counts['outcome'] < 30]\n",
    "sns.displot(sample_counts_cleaned, x='outcome')\n"
   ]
  },
  {
   "cell_type": "markdown",
   "metadata": {},
   "source": [
    "## Experimental results: flipping coins in parallel\n",
    "\n",
    "After the success of his first experiment, Mittens was lauded as a statistical wizard. The royal mint has become interested and is providing additional funds to obtain an additional 49 coins and repeat the experiment to gather more data about the fascinating topic of coin bias. Now he gives each of 50 students a coin each and asks them to flip the coin 30 times and record the results. We will help Mittens work out whether the coins are fair.\n",
    "\n",
    "### Excercise 5 part I\n",
    "\n",
    "Do we need to change anything about how we analyse this data? If so, why, if not, why not? **Hint:** there are good arguments that can be given for each answer. Once you have answered one way, try to answer the other way. "
   ]
  },
  {
   "cell_type": "markdown",
   "metadata": {},
   "source": [
    "##### Answer \n",
    "We saw in the last exercise that one of the students was consistently cheating the exercise. Alternatively, if we assume that the students don't cheat we can reeat in the same way"
   ]
  },
  {
   "cell_type": "markdown",
   "metadata": {},
   "source": [
    "### Exercise 5 part II\n",
    "\n",
    "Using the data in `experiment2.csv` explore the data set using the methodology devised above and write a couple of sentences to explain what you found."
   ]
  },
  {
   "cell_type": "code",
   "execution_count": 71,
   "metadata": {},
   "outputs": [],
   "source": [
    "df = pd.read_csv('experiment2.csv')"
   ]
  },
  {
   "cell_type": "code",
   "execution_count": 75,
   "metadata": {},
   "outputs": [
    {
     "name": "stdout",
     "output_type": "stream",
     "text": [
      "       outcome\n",
      "name          \n",
      "0     0.233333\n",
      "1     0.233333\n",
      "2     0.133333\n",
      "3     0.233333\n",
      "4     0.133333\n",
      "5     0.133333\n",
      "6     0.333333\n",
      "7     0.233333\n",
      "8     0.366667\n",
      "9     0.100000\n",
      "10    0.400000\n",
      "11    0.333333\n",
      "12    0.400000\n",
      "13    0.400000\n",
      "14    0.300000\n",
      "15    0.466667\n",
      "16    0.300000\n",
      "17    0.200000\n",
      "18    0.300000\n",
      "19    0.333333\n",
      "20    0.433333\n",
      "21    0.500000\n",
      "22    0.333333\n",
      "23    0.500000\n",
      "24    0.400000\n",
      "25    0.433333\n",
      "26    0.500000\n",
      "27    0.500000\n",
      "28    0.266667\n",
      "29    0.300000\n",
      "30    0.433333\n",
      "31    0.366667\n",
      "32    0.433333\n",
      "33    0.433333\n",
      "34    0.633333\n",
      "35    0.533333\n",
      "36    0.666667\n",
      "37    0.533333\n",
      "38    0.566667\n",
      "39    0.366667\n",
      "40    0.566667\n",
      "41    0.366667\n",
      "42    0.533333\n",
      "43    0.500000\n",
      "44    0.500000\n",
      "45    0.600000\n",
      "46    0.500000\n",
      "47    0.533333\n",
      "48    0.600000\n",
      "49    0.666667\n",
      "      outcome\n",
      "name         \n",
      "0           7\n",
      "1           7\n",
      "2           4\n",
      "3           7\n",
      "4           4\n",
      "5           4\n",
      "6          10\n",
      "7           7\n",
      "8          11\n",
      "9           3\n",
      "10         12\n",
      "11         10\n",
      "12         12\n",
      "13         12\n",
      "14          9\n",
      "15         14\n",
      "16          9\n",
      "17          6\n",
      "18          9\n",
      "19         10\n",
      "20         13\n",
      "21         15\n",
      "22         10\n",
      "23         15\n",
      "24         12\n",
      "25         13\n",
      "26         15\n",
      "27         15\n",
      "28          8\n",
      "29          9\n",
      "30         13\n",
      "31         11\n",
      "32         13\n",
      "33         13\n",
      "34         19\n",
      "35         16\n",
      "36         20\n",
      "37         16\n",
      "38         17\n",
      "39         11\n",
      "40         17\n",
      "41         11\n",
      "42         16\n",
      "43         15\n",
      "44         15\n",
      "45         18\n",
      "46         15\n",
      "47         16\n",
      "48         18\n",
      "49         20\n"
     ]
    }
   ],
   "source": [
    "df.head()\n",
    "sample_means = df.groupby(by =['name']).mean()\n",
    "sample_counts = df.groupby(by =['name']).sum()\n",
    "sample_means = sample_means.drop(['flip_number'], axis = 1)\n",
    "sample_counts = sample_counts.drop(['flip_number'], axis = 1)\n",
    "\n",
    "print(sample_means)\n",
    "print(sample_counts)"
   ]
  },
  {
   "cell_type": "markdown",
   "metadata": {},
   "source": [
    "### Exercise 5 part III\n",
    "\n",
    "Visualise the number of heads each student got and compare the variance in this to what is predicted by theory. Revise your answer to part I of this exercise."
   ]
  },
  {
   "cell_type": "code",
   "execution_count": 77,
   "metadata": {},
   "outputs": [
    {
     "data": {
      "text/plain": [
       "<seaborn.axisgrid.FacetGrid at 0x7f83d12a6650>"
      ]
     },
     "execution_count": 77,
     "metadata": {},
     "output_type": "execute_result"
    },
    {
     "data": {
      "image/png": "[encoded data removed]",
      "text/plain": [
       "<Figure size 360x360 with 1 Axes>"
      ]
     },
     "metadata": {
      "needs_background": "light"
     },
     "output_type": "display_data"
    }
   ],
   "source": [
    "sns.displot(sample_counts, x='outcome')"
   ]
  },
  {
   "cell_type": "code",
   "execution_count": 82,
   "metadata": {},
   "outputs": [
    {
     "data": {
      "text/plain": [
       "(12.990424765510792, 17.00957523448921)"
      ]
     },
     "execution_count": 82,
     "metadata": {},
     "output_type": "execute_result"
    }
   ],
   "source": [
    "stats.t.interval(0.95, 49, loc=15)\n"
   ]
  },
  {
   "cell_type": "markdown",
   "metadata": {},
   "source": [
    "### Exercise 5 part IV (Extension)\n",
    "\n",
    "Consider how you might analyse this data. Over the following weeks you will learn a couple of approaches."
   ]
  },
  {
   "cell_type": "markdown",
   "metadata": {},
   "source": [
    "## Epilogue\n",
    "\n",
    "Professor Mittens' work was published in a top tier journal and he was lauded as a statistical wizard. Rumour has it he will soon be elected to the British Acadmey."
   ]
  }
 ],
 "metadata": {
  "kernelspec": {
   "display_name": "Python 3",
   "language": "python",
   "name": "python3"
  },
  "language_info": {
   "codemirror_mode": {
    "name": "ipython",
    "version": 3
   },
   "file_extension": ".py",
   "mimetype": "text/x-python",
   "name": "python",
   "nbconvert_exporter": "python",
   "pygments_lexer": "ipython3",
   "version": "3.7.9"
  }
 },
 "nbformat": 4,
 "nbformat_minor": 4
}
